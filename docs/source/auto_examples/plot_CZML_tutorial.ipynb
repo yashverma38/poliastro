{
  "cells": [
    {
      "cell_type": "code",
      "execution_count": null,
      "metadata": {
        "collapsed": false
      },
      "outputs": [],
      "source": [
        "%matplotlib inline"
      ]
    },
    {
      "cell_type": "markdown",
      "metadata": {},
      "source": [
        "\nVisualize orbital data with Cesium\n==================================\n\nPoliastro allows users to easily convert orbital data to CZML, a JSON\nformat primarily used in applications running Cesium\n"
      ]
    },
    {
      "cell_type": "markdown",
      "metadata": {},
      "source": [
        "Dependencies\n------------\n\nYou will only need poliastro (obviously) and czml3, a library for easily\ncreating and using CZML packets\n\n``pip install poliastro czml3``\n\n\n"
      ]
    },
    {
      "cell_type": "markdown",
      "metadata": {},
      "source": [
        "Our first example: The Molniya orbit\n------------------------------------\n\nWe'll start off by using one of the readily usable poliastro examples.\nOf course, you can use any poliastro ``Orbit`` object.\n\n\n"
      ]
    },
    {
      "cell_type": "code",
      "execution_count": null,
      "metadata": {
        "collapsed": false
      },
      "outputs": [],
      "source": [
        "from poliastro.czml.extract_czml import CZMLExtractor\n\nfrom poliastro.examples import molniya"
      ]
    },
    {
      "cell_type": "markdown",
      "metadata": {},
      "source": [
        "To initialize the extractor, you'll only need the starting and ending\nepoch of the time period you wish to visualize and the number of sample\npoints. The larger the sample point size, the more accurate the\ntrajectory and the bigger your packets. Finding that sweet spot between\nreasonable package size and visual accuracy depends on the specific\norbit. Generally, you'll need a bigger sample for faster satellites. You\ncould also \"break\" your orbit into different parts and define the sample\nsize individually (for example, this could be useful when the satellite\naccelerates within a certain time interval).\n\nFor this specific example, we're only interested in a single orbital\nperiod.\n\n\n"
      ]
    },
    {
      "cell_type": "code",
      "execution_count": null,
      "metadata": {
        "collapsed": false
      },
      "outputs": [],
      "source": [
        "start_epoch = molniya.epoch\nend_epoch = molniya.epoch + molniya.period\nN = 80\n\nextractor = CZMLExtractor(\n        start_epoch,\n        end_epoch,\n        N\n    )"
      ]
    },
    {
      "cell_type": "markdown",
      "metadata": {},
      "source": [
        "To add an orbit you can simply call ``add_orbit`` and pass your\n``Orbit`` along with an optional precision parameter (``rtol``).\nHowever, there are also many optional parameters you can pass to the\nextractor to specify the visual characteristics of your trajectory:\n\nId parameters:\n^^^^^^^^^^^^^^\n\n``id_name``: The orbit id name\n\n``id_description``: The orbit's description\n\nPath parameters:\n^^^^^^^^^^^^^^^^\n\n``path_width``: The trajectorie's width. It's defined in pixels and\ndefaults to ``1.0``\n\n``path_show``: Whether the trajectorie's path is visible (true by\ndefault)\n\n``path_color``: The trajectorie's color, a simple list with the rgba\nvalues (e.g. ``[45, 30, 50, 255]``)\n\nLabel parameters:\n^^^^^^^^^^^^^^^^^\n\n``label_text``: The label text; the text that appears besides the orbit.\n\n``label_show``: Whether the label is visible (true by default)\n\n``label_fill_color``: The fill color of the label , a simple list with\nthe rgba values\n\n``label_outline_color``: The fill color of the label , a simple list\nwith the rgba values\n\n``label_font``: The font properties (CSS syntax)\n\nGroundtrack parameters:\n^^^^^^^^^^^^^^^^^^^^^^^\n\n``show_groundtrack``: Whether the groundtrack is visible (true by\ndefault)\n\n``groundtrack_lead_time``: The time the animation is ahead of the\nreal-time groundtrack\n\n``groundtrack_trail_time``: The time the animation is behind the\nreal-time groundtrack\n\n``groundtrack_width``: The groundtrack width\n\n``groundtrack_color``: The groundtrack color. By default, it is set to\nthe trajectory's color\n\n\n"
      ]
    },
    {
      "cell_type": "code",
      "execution_count": null,
      "metadata": {
        "collapsed": false
      },
      "outputs": [],
      "source": [
        "extractor.add_orbit(molniya,\n              id_name=\"MolniyaOrbit\",\n              path_width=2,\n              label_text=\"Molniya\", \n              label_fill_color=[125, 80, 120, 255]\n             )"
      ]
    },
    {
      "cell_type": "markdown",
      "metadata": {},
      "source": [
        "You can now export the extractor packets by simply calling\n``extractor.packets`` and load it to the Cesium app as described\n`here <https://github.com/poliastro/cesium-app>`__\n\n\n"
      ]
    },
    {
      "cell_type": "code",
      "execution_count": null,
      "metadata": {
        "collapsed": false
      },
      "outputs": [],
      "source": [
        "print(extractor.packets)"
      ]
    },
    {
      "cell_type": "markdown",
      "metadata": {},
      "source": [
        "Landing on Mars\n---------------\n\nYou can customize the attractor of your orbit by defining any valid\nellipsoid with the help of poliastro's ``Body`` class. For your\nconvenience, poliastro offers a pre-defined list of all the major\nplanetary bodies of the solar system so you can simply import them.\n\n\n"
      ]
    },
    {
      "cell_type": "code",
      "execution_count": null,
      "metadata": {
        "collapsed": false
      },
      "outputs": [],
      "source": [
        "from poliastro.bodies import Mars"
      ]
    },
    {
      "cell_type": "markdown",
      "metadata": {},
      "source": [
        "Of course, when defining a new attractor you want to be able to identify\nsomething other than it's shape. For this reason, the extractor allows\nyou to easily set the UV map by simply providing a valid URL.\n\n\n"
      ]
    },
    {
      "cell_type": "code",
      "execution_count": null,
      "metadata": {
        "collapsed": false
      },
      "outputs": [],
      "source": [
        "mars_uv = \"https://upload.wikimedia.org/wikipedia/commons/f/fd/Mars_2020_LandingSites_Final_8-full.jpg\"\n\nextractor = CZMLExtractor(\n        start_epoch,\n        end_epoch,\n        N,\n        attractor=Mars,\n        pr_map=mars_uv\n)\n\nprint(extractor.packets)"
      ]
    },
    {
      "cell_type": "markdown",
      "metadata": {},
      "source": [
        "Return to Flatland\n------------------\n\nInstead of a 3D globe you may want to visualize your orbit as a 2D\nprojection instead. In this case you can simply set ``scene3D`` to\n``false`` and Cesium will automatically render the scene's orthographic\nprojection. This can be of use when plotting animated groundtracks as\nwe'll see in the next section\n\n\n"
      ]
    },
    {
      "cell_type": "code",
      "execution_count": null,
      "metadata": {
        "collapsed": false
      },
      "outputs": [],
      "source": [
        "extractor = CZMLExtractor(\n        start_epoch,\n        end_epoch,\n        N,\n        scene3D=False\n)\n\nprint(extractor.packets)"
      ]
    },
    {
      "cell_type": "markdown",
      "metadata": {},
      "source": [
        "Ground track plotting\n---------------------\n\nAnother useful feature the extractor offers, is the ability to plot the\nground track of an orbit. You can set the groundtrack by setting the\naforementioned ``groundtrack_show`` parameter to true. Note that this\nalso works in 2D view.\n\n\n"
      ]
    },
    {
      "cell_type": "code",
      "execution_count": null,
      "metadata": {
        "collapsed": false
      },
      "outputs": [],
      "source": [
        "extractor = CZMLExtractor(\n        start_epoch,\n        end_epoch,\n        N\n    )\n\nextractor.add_orbit(molniya,\n              groundtrack_show=True,\n              groundtrack_lead_time=20,\n              groundtrack_trail_time=20\n             )\n\nprint(extractor.packets)"
      ]
    }
  ],
  "metadata": {
    "kernelspec": {
      "display_name": "Python 3",
      "language": "python",
      "name": "python3"
    },
    "language_info": {
      "codemirror_mode": {
        "name": "ipython",
        "version": 3
      },
      "file_extension": ".py",
      "mimetype": "text/x-python",
      "name": "python",
      "nbconvert_exporter": "python",
      "pygments_lexer": "ipython3",
      "version": "3.7.5"
    }
  },
  "nbformat": 4,
  "nbformat_minor": 0
}