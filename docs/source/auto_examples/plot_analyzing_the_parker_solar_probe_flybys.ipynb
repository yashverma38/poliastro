{
  "cells": [
    {
      "cell_type": "code",
      "execution_count": null,
      "metadata": {
        "collapsed": false
      },
      "outputs": [],
      "source": [
        "%matplotlib inline"
      ]
    },
    {
      "cell_type": "markdown",
      "metadata": {},
      "source": [
        "\nAnalyzing the Parker Solar Probe flybys\n=======================================\n\n1. Modulus of the exit velocity, some features of Orbit #2\n----------------------------------------------------------\n\nFirst, using the data available in the reports, we try to compute some\nof the properties of orbit #2. This is not enough to completely define\nthe trajectory, but will give us information later on in the process.\n"
      ]
    },
    {
      "cell_type": "code",
      "execution_count": null,
      "metadata": {
        "collapsed": false
      },
      "outputs": [],
      "source": [
        "from astropy import units as u\n\nT_ref = 150 * u.day\nprint(T_ref)\n\nfrom poliastro.bodies import Earth, Sun, Venus\nk = Sun.k\nprint(k)"
      ]
    },
    {
      "cell_type": "markdown",
      "metadata": {},
      "source": [
        "\\begin{align}T = 2 \\pi \\sqrt{\\frac{a^3}{\\mu}} \\Rightarrow a = \\sqrt[3]{\\frac{\\mu T^2}{4 \\pi^2}}\\end{align}\n\n\n"
      ]
    },
    {
      "cell_type": "code",
      "execution_count": null,
      "metadata": {
        "collapsed": false
      },
      "outputs": [],
      "source": [
        "import numpy as np\n\na_ref = np.cbrt(k * T_ref ** 2 / (4 * np.pi ** 2)).to(u.km)\nprint(a_ref.to(u.au))"
      ]
    },
    {
      "cell_type": "markdown",
      "metadata": {},
      "source": [
        "\\begin{align}\\varepsilon = -\\frac{\\mu}{r} + \\frac{v^2}{2} = -\\frac{\\mu}{2a} \\Rightarrow v = +\\sqrt{\\frac{2\\mu}{r} - \\frac{\\mu}{a}}\\end{align}\n\n\n"
      ]
    },
    {
      "cell_type": "code",
      "execution_count": null,
      "metadata": {
        "collapsed": false
      },
      "outputs": [],
      "source": [
        "energy_ref = (-k / (2 * a_ref)).to(u.J / u.kg)\nprint(energy_ref)\n\nfrom poliastro.twobody import Orbit\nfrom poliastro.util import norm\nfrom astropy.time import Time\n\nflyby_1_time = Time(\"2018-09-28\", scale=\"tdb\")\nprint(flyby_1_time)\n\nr_mag_ref = norm(Orbit.from_body_ephem(Venus, epoch=flyby_1_time).r)\nprint(r_mag_ref.to(u.au))\n\nv_mag_ref = np.sqrt(2 * k / r_mag_ref - k / a_ref)\nprint(v_mag_ref.to(u.km / u.s))"
      ]
    },
    {
      "cell_type": "markdown",
      "metadata": {},
      "source": [
        "2. Lambert arc between #0 and #1\n--------------------------------\n\nTo compute the arrival velocity to Venus at flyby #1, we have the\nnecessary data to solve the boundary value problem.\n\n\n"
      ]
    },
    {
      "cell_type": "code",
      "execution_count": null,
      "metadata": {
        "collapsed": false
      },
      "outputs": [],
      "source": [
        "d_launch = Time(\"2018-08-11\", scale=\"tdb\")\nprint(d_launch)\n\nss0 = Orbit.from_body_ephem(Earth, d_launch)\nss1 = Orbit.from_body_ephem(Venus, epoch=flyby_1_time)\n\ntof = flyby_1_time - d_launch\n\n\nfrom poliastro import iod\n((v0, v1_pre),) = iod.lambert(Sun.k, ss0.r, ss1.r, tof.to(u.s))\n\nprint(v0)\n\nprint(v1_pre)\n\nprint(norm(v1_pre))"
      ]
    },
    {
      "cell_type": "markdown",
      "metadata": {},
      "source": [
        "3. Flyby #1 around Venus\n------------------------\n\nWe compute a flyby using poliastro with the default value of the entry\nangle, just to discover that the results do not match what we expected.\n\n\n"
      ]
    },
    {
      "cell_type": "code",
      "execution_count": null,
      "metadata": {
        "collapsed": false
      },
      "outputs": [],
      "source": [
        "from poliastro.threebody.flybys import compute_flyby\nV = Orbit.from_body_ephem(Venus, epoch=flyby_1_time).v\nprint(V)\n\nh = 2548 * u.km\n\nd_flyby_1 = Venus.R + h\nprint(d_flyby_1.to(u.km))\n\nV_2_v_, delta_ = compute_flyby(v1_pre, V, Venus.k, d_flyby_1)\n\nprint(norm(V_2_v_))"
      ]
    },
    {
      "cell_type": "markdown",
      "metadata": {},
      "source": [
        "4. Optimization\n---------------\n\nNow we will try to find the value of $\\theta$ that satisfies our\nrequirements.\n\n\n"
      ]
    },
    {
      "cell_type": "code",
      "execution_count": null,
      "metadata": {
        "collapsed": false
      },
      "outputs": [],
      "source": [
        "def func(theta):\n    V_2_v, _ = compute_flyby(v1_pre, V, Venus.k, d_flyby_1, theta * u.rad)\n    ss_1 = Orbit.from_vectors(Sun, ss1.r, V_2_v, epoch=flyby_1_time)\n    return (ss_1.period - T_ref).to(u.day).value"
      ]
    },
    {
      "cell_type": "markdown",
      "metadata": {},
      "source": [
        "There are two solutions:\n\n\n"
      ]
    },
    {
      "cell_type": "code",
      "execution_count": null,
      "metadata": {
        "collapsed": false
      },
      "outputs": [],
      "source": [
        "import matplotlib.pyplot as plt\ntheta_range = np.linspace(0, 2 * np.pi)\nplt.plot(theta_range, [func(theta) for theta in theta_range])\nplt.axhline(0, color=\"k\", linestyle=\"dashed\")\nplt.show()\n\nprint(func(0))\n\nprint(func(1))\n\n\nfrom scipy.optimize import brentq\ntheta_opt_a = brentq(func, 0, 1) * u.rad\nprint(theta_opt_a.to(u.deg))\n\ntheta_opt_b = brentq(func, 4, 5) * u.rad\nprint(theta_opt_b.to(u.deg))\n\nV_2_v_a, delta_a = compute_flyby(v1_pre, V, Venus.k, d_flyby_1, theta_opt_a)\nV_2_v_b, delta_b = compute_flyby(v1_pre, V, Venus.k, d_flyby_1, theta_opt_b)\n\nprint(norm(V_2_v_a))\n\nprint(norm(V_2_v_b))"
      ]
    },
    {
      "cell_type": "markdown",
      "metadata": {},
      "source": [
        "5. Exit orbit\n-------------\n\nAnd finally, we compute orbit #2 and check that the period is the\nexpected one.\n\n\n"
      ]
    },
    {
      "cell_type": "code",
      "execution_count": null,
      "metadata": {
        "collapsed": false
      },
      "outputs": [],
      "source": [
        "ss01 = Orbit.from_vectors(Sun, ss1.r, v1_pre, epoch=flyby_1_time)\nprint(ss01)"
      ]
    },
    {
      "cell_type": "markdown",
      "metadata": {},
      "source": [
        "The two solutions have different inclinations, so we still have to find\nout which is the good one. We can do this by computing the inclination\nover the ecliptic - however, as the original data was in the\nInternational Celestial Reference Frame (ICRF), whose fundamental plane\nis parallel to the Earth equator of a reference epoch, we have change\nthe plane to the Earth **ecliptic**, which is what the original reports\nuse.\n\n\n"
      ]
    },
    {
      "cell_type": "code",
      "execution_count": null,
      "metadata": {
        "collapsed": false
      },
      "outputs": [],
      "source": [
        "ss_1_a = Orbit.from_vectors(Sun, ss1.r, V_2_v_a, epoch=flyby_1_time)\nprint(ss_1_a)\n\nss_1_b = Orbit.from_vectors(Sun, ss1.r, V_2_v_b, epoch=flyby_1_time)\nprint(ss_1_b)"
      ]
    },
    {
      "cell_type": "markdown",
      "metadata": {},
      "source": [
        "Let's define a function to do that quickly for us, using the\n```get_frame`` <https://docs.poliastro.space/en/latest/api/safe/frames.html#poliastro.frames.get_frame>`__\nfunction from poliastro.frames:\n\n\n"
      ]
    },
    {
      "cell_type": "code",
      "execution_count": null,
      "metadata": {
        "collapsed": false
      },
      "outputs": [],
      "source": [
        "from astropy.coordinates import CartesianRepresentation, CartesianDifferential\nfrom poliastro.frames import Planes\nfrom poliastro.frames.util import get_frame\n\ndef change_plane(ss_orig, plane):\n    \"\"\"Changes the plane of the Orbit.\n\n    \"\"\"\n    ss_orig_rv = ss_orig.get_frame().realize_frame(\n        ss_orig.represent_as(CartesianRepresentation, CartesianDifferential)\n    )\n\n    dest_frame = get_frame(ss_orig.attractor, plane, obstime=ss_orig.epoch)\n\n    ss_dest_rv = ss_orig_rv.transform_to(dest_frame)\n    ss_dest_rv.representation_type = CartesianRepresentation\n\n    ss_dest = Orbit.from_coords(ss_orig.attractor, ss_dest_rv, plane=plane)\n    return ss_dest\n\n\nprint(change_plane(ss_1_a, Planes.EARTH_ECLIPTIC))\n\nprint(change_plane(ss_1_b, Planes.EARTH_ECLIPTIC))"
      ]
    },
    {
      "cell_type": "markdown",
      "metadata": {},
      "source": [
        "Therefore, **the correct option is the first one**.\n\n\n"
      ]
    },
    {
      "cell_type": "code",
      "execution_count": null,
      "metadata": {
        "collapsed": false
      },
      "outputs": [],
      "source": [
        "print(ss_1_a.period.to(u.day))\n\nprint(ss_1_a.a)"
      ]
    },
    {
      "cell_type": "markdown",
      "metadata": {},
      "source": [
        "And, finally, we plot the solution:\n\n\n"
      ]
    },
    {
      "cell_type": "code",
      "execution_count": null,
      "metadata": {
        "collapsed": false
      },
      "outputs": [],
      "source": [
        "from poliastro.plotting import StaticOrbitPlotter\nframe = StaticOrbitPlotter()\n\nframe.plot(ss0, label=Earth)\nframe.plot(ss1, label=Venus)\nframe.plot(ss01, label=\"#0 to #1\")\nframe.plot(ss_1_a, label=\"#1 to #2\")\nplt.show()"
      ]
    }
  ],
  "metadata": {
    "kernelspec": {
      "display_name": "Python 3",
      "language": "python",
      "name": "python3"
    },
    "language_info": {
      "codemirror_mode": {
        "name": "ipython",
        "version": 3
      },
      "file_extension": ".py",
      "mimetype": "text/x-python",
      "name": "python",
      "nbconvert_exporter": "python",
      "pygments_lexer": "ipython3",
      "version": "3.7.5"
    }
  },
  "nbformat": 4,
  "nbformat_minor": 0
}