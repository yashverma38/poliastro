{
  "cells": [
    {
      "cell_type": "code",
      "execution_count": null,
      "metadata": {
        "collapsed": false
      },
      "outputs": [],
      "source": [
        "%matplotlib inline"
      ]
    },
    {
      "cell_type": "markdown",
      "metadata": {},
      "source": [
        "\nThe atmosphere and its layers\n-----------------------------\n\nThe World Meteorological Organization (WMO) defines the atmosphere as:\n\n*``A hypotetical vertical distribution of atmospheric temperature, pressure and density which by international agreement and for historical reasons, is roughly representative of year-round, midlatitude conditions.``*\n\nIn fact, the atmosphere is the mean that makes the link between the\nground and space and it is crucial when studying perturbations since\ndrag affects LEO satellites.\n\nTherefore, it was necessary to develop some mathematical model based\nthat could predict all the different conditions stated in WMO atmosphere\ndefinitoin for given altitudes.\n\nAlong history different models have been developed:\n\n-  ISA: up to 11 km.\n-  ISA-ICAO: up to 80 km.\n-  COESA 1962: up to 700 km.\n-  COESA 1976: up to 1000 km.\n-  Jacchia-Roberts\n\nSince some of them are implemented in ``poliastro``, let us compare the\ndifferences among them.\n"
      ]
    },
    {
      "cell_type": "code",
      "execution_count": null,
      "metadata": {
        "collapsed": false
      },
      "outputs": [],
      "source": [
        "from poliastro.atmosphere import COESA62, COESA76\nfrom astropy import units as u\nimport numpy as np\nimport matplotlib.pyplot as plt"
      ]
    },
    {
      "cell_type": "markdown",
      "metadata": {},
      "source": [
        "Comparing coesa62 and coesa76\n~~~~~~~~~~~~~~~~~~~~~~~~~~~~~\n\nAlso known as ``U.S. Standard Atmosphere``, the atmospheric model\n*coesa76* is just an update of his little brother *coesa62*. The\ndifference is that geopotential heights diverge for higher altitudes.\n\nLet us plot the ``Temperature`` as increasing altitude for both\natmospheric models.\n\n\n"
      ]
    },
    {
      "cell_type": "code",
      "execution_count": null,
      "metadata": {
        "collapsed": false
      },
      "outputs": [],
      "source": [
        "# We build the atmospheric instances\ncoesa62 = COESA62()\ncoesa76 = COESA76()\n\n# Create the figure\nfig, ax = plt.subplots(figsize=(10,10))\nax.set_title(\"U.S Standard Atmospheres\")\n\n# Collect all atmospheric models and define their plotting properties\natm_models = {coesa62: [\"--r\", \"r\", \"Coesa 1962\"], coesa76: [\"-b\", \"b\", \"Coesa 1976\"]}\n\n# Solve atmospheric temperature for each of the models\nfor atm in atm_models:\n    z_span = np.linspace(0, 86, 100) * u.km\n    T_span = np.array([]) * u.K\n    for z in z_span:\n        # We discard density and pressure\n        T = atm.temperature(z)\n        T_span = np.append(T_span, T)\n        \n    # Temperature plot\n    ax.plot(T_span, z_span, atm_models[atm][0], label=atm_models[atm][-1])                                        \n    ax.plot(atm.Tb_levels[:8], atm.zb_levels[:8], atm_models[atm][1] + \"o\")\n    ax.set_xlim(150, 300)\n    ax.set_ylim(0, 100)                                                 \n    ax.set_xlabel(\"Temperature $[K]$\")                                  \n    ax.set_ylabel(\"Altitude $[km]$\") \n    ax.legend()\n        \n# Add some information on the plot\nax.annotate(\n    \"Tropopause\",\n    xy=(coesa76.Tb_levels[1].value, coesa76.zb_levels[1].value),\n    xytext=(coesa76.Tb_levels[1].value + 10, coesa76.zb_levels[1].value + 5),\n    arrowprops=dict(arrowstyle=\"simple\", facecolor=\"black\")\n)\nax.annotate(\n    \"Stratopause\",\n    xy=(coesa76.Tb_levels[4].value, coesa76.zb_levels[4].value),\n    xytext=(coesa76.Tb_levels[4].value - 25, coesa76.zb_levels[4].value + 5),\n    arrowprops=dict(arrowstyle=\"simple\", facecolor=\"black\")\n)\nax.annotate(\n    \"Mesopause\",\n    xy=(coesa76.Tb_levels[7].value, coesa76.zb_levels[7].value),\n    xytext=(coesa76.Tb_levels[7].value + 10, coesa76.zb_levels[7].value + 5),\n    arrowprops=dict(arrowstyle=\"simple\", facecolor=\"black\")\n)\n\n# Layers in the atmosphere\nfor h in [11.019, 47.350, 86]:\n    ax.axhline(h, color='k', linestyle='--', xmin=0.0, xmax=0.35)\n    ax.axhline(h, color='k', linestyle='-', xmin=0.0, xmax=0.15)\n    \nlayer_names = {\"TROPOSPHERE\": 5, \"STRATOSPHERE\": 30, \"MESOSPHERE\": 65, \"THERMOSPHERE\": 90}\nfor name in layer_names:\n    ax.annotate(\n        name,\n        xy=(152, layer_names[name]),\n        xytext=(152, layer_names[name]),\n    )\nplt.show()"
      ]
    },
    {
      "cell_type": "markdown",
      "metadata": {},
      "source": [
        "Temperature, pressure and density distrubutions\n-----------------------------------------------\n\nOne of the advantages of COESA76 is that it extends up to 1000\nkilometers. The behaviour of previous magnitudes againts geometrical\naltitude can be checked in the following figure. **A logarithmic scale\nis applied for pressure and density to better see their decay for high\naltitude values.**\n\n\n"
      ]
    },
    {
      "cell_type": "code",
      "execution_count": null,
      "metadata": {
        "collapsed": false
      },
      "outputs": [],
      "source": [
        "# We create the basis for the figure\nfig, axs = plt.subplots(1, 3, figsize=(12, 5))\nfig.suptitle(\"State variables against altitude\", fontweight=\"bold\")\nfig.text(0.04, 0.5, 'Altitude [km]', va='center', rotation='vertical')\n\n# Complete altitude range and initialization of state variables sets\nalt_span = np.linspace(0, 1000, 1001) * u.km\nT_span = np.array([]) * u.K\np_span = np.array([]) * u.Pa\nrho_span = np.array([]) * u.kg / u.m ** 3\n\n# We solve for each property at given altitude\nfor alt in alt_span:\n    T, p, rho = coesa76.properties(alt)\n    T_span = np.append(T_span, T)\n    p_span = np.append(p_span, p.to(u.Pa))\n    rho_span = np.append(rho_span, rho)\n    \n# Temperature plot\naxs[0].set_title(\"Temperature\")\naxs[0].set_xlabel(\"T [K]\")\naxs[0].set_xlabel(\"Altitude [K]\")\naxs[0].plot(T_span, alt_span)\n\n# Pressure plot\naxs[1].set_title(\"Pressure\")\naxs[1].set_xlabel(\"p [Pa]\")\naxs[1].plot(p_span, alt_span)\naxs[1].set_xscale('log')\n\nplt.close()\n# Density plot\naxs[2].set_title(\"Density\")\naxs[2].set_xlabel(r\"$\\rho$ [kg/m3]\")\naxs[2].plot(rho_span, alt_span)\naxs[2].set_xscale('log')\nplt.show()"
      ]
    }
  ],
  "metadata": {
    "kernelspec": {
      "display_name": "Python 3",
      "language": "python",
      "name": "python3"
    },
    "language_info": {
      "codemirror_mode": {
        "name": "ipython",
        "version": 3
      },
      "file_extension": ".py",
      "mimetype": "text/x-python",
      "name": "python",
      "nbconvert_exporter": "python",
      "pygments_lexer": "ipython3",
      "version": "3.7.5"
    }
  },
  "nbformat": 4,
  "nbformat_minor": 0
}