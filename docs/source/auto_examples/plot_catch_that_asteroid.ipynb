{
  "cells": [
    {
      "cell_type": "code",
      "execution_count": null,
      "metadata": {
        "collapsed": false
      },
      "outputs": [],
      "source": [
        "%matplotlib inline"
      ]
    },
    {
      "cell_type": "markdown",
      "metadata": {},
      "source": [
        "\nCatch that asteroid!\n====================\n"
      ]
    },
    {
      "cell_type": "markdown",
      "metadata": {},
      "source": [
        "First, we need to increase the timeout time to allow the download of\ndata occur properly\n\n\n"
      ]
    },
    {
      "cell_type": "code",
      "execution_count": null,
      "metadata": {
        "collapsed": false
      },
      "outputs": [],
      "source": [
        "from astropy.utils.data import conf\nconf.dataurl\nprint(conf.dataurl)\n\nconf.remote_timeout \nprint(conf.remote_timeout)\n\nconf.remote_timeout = 10000"
      ]
    },
    {
      "cell_type": "markdown",
      "metadata": {},
      "source": [
        "Then, we do the rest of the imports and create our initial orbits.\n\n\n"
      ]
    },
    {
      "cell_type": "code",
      "execution_count": null,
      "metadata": {
        "collapsed": false
      },
      "outputs": [],
      "source": [
        "from astropy import units as u\nimport matplotlib.pyplot as plt\nfrom astropy.time import Time\nfrom astropy.coordinates import solar_system_ephemeris\nimport astropy.coordinates as coord\nfrom astropy.coordinates import (\n    GCRS,\n    ICRS,\n    CartesianDifferential,\n    CartesianRepresentation,\n    get_body_barycentric,\n    get_body_barycentric_posvel,\n)\nsolar_system_ephemeris.set(\"jpl\")\n\nfrom poliastro.bodies import *\nfrom poliastro.twobody import Orbit\nfrom poliastro.plotting import StaticOrbitPlotter\nfrom poliastro.plotting.misc import plot_solar_system\n\nEPOCH = Time(\"2017-09-01 12:05:50\", scale=\"tdb\")\n\nearth = Orbit.from_body_ephem(Earth, EPOCH)\nprint(earth)\n\nearth.plot(label=Earth);\nplt.show()\n\nflorence = Orbit.from_sbdb(\"Florence\")\nprint(florence)"
      ]
    },
    {
      "cell_type": "markdown",
      "metadata": {},
      "source": [
        "Two problems: the epoch is not the one we desire, and the inclination is\nwith respect to the ecliptic!\n\n\n"
      ]
    },
    {
      "cell_type": "code",
      "execution_count": null,
      "metadata": {
        "collapsed": false
      },
      "outputs": [],
      "source": [
        "print(florence.rv())\n\nprint(florence.epoch)\n\nprint(florence.epoch.iso)\n\nprint(florence.inc)"
      ]
    },
    {
      "cell_type": "markdown",
      "metadata": {},
      "source": [
        "We first propagate:\n\n\n"
      ]
    },
    {
      "cell_type": "code",
      "execution_count": null,
      "metadata": {
        "collapsed": false
      },
      "outputs": [],
      "source": [
        "florence = florence.propagate(EPOCH)\nprint(florence.epoch.tdb.iso)"
      ]
    },
    {
      "cell_type": "markdown",
      "metadata": {},
      "source": [
        "And now we have to convert to the same frame that the planetary\nephemerides are using to make consistent comparisons, which is ICRS:\n\n\n"
      ]
    },
    {
      "cell_type": "code",
      "execution_count": null,
      "metadata": {
        "collapsed": false
      },
      "outputs": [],
      "source": [
        "def to_icrs(orbit):\n    \"\"\"Creates a new Orbit object with its coordinates transformed to ICRS.\n    Notice that, strictly speaking, the center of ICRS is the Solar System Barycenter\n    and not the Sun, and therefore these orbits cannot be propagated in the context\n    of the two body problem. Therefore, this function exists merely for practical\n    purposes.\n    \"\"\"\n\n    coords = orbit.get_frame().realize_frame(orbit.represent_as(CartesianRepresentation, CartesianDifferential))\n    coords.representation_type = CartesianRepresentation\n    icrs_cart = coords.transform_to(ICRS).represent_as(CartesianRepresentation, CartesianDifferential)\n\n    # Caution: the attractor is in fact the Solar System Barycenter\n    ss = Orbit.from_vectors(\n        Sun, r=icrs_cart.xyz, v=icrs_cart.differentials[\"s\"].d_xyz, epoch=orbit.epoch\n    )\n    ss._frame = ICRS()\n    return ss\n\nflorence_icrs = to_icrs(florence)\nprint(florence_icrs.rv())"
      ]
    },
    {
      "cell_type": "markdown",
      "metadata": {},
      "source": [
        "Let us compute the distance between Florence and the Earth:\n\n\n"
      ]
    },
    {
      "cell_type": "code",
      "execution_count": null,
      "metadata": {
        "collapsed": false
      },
      "outputs": [],
      "source": [
        "from poliastro.util import norm\n\nprint(norm(florence_icrs.r - earth.r) - Earth.R)"
      ]
    },
    {
      "cell_type": "markdown",
      "metadata": {},
      "source": [
        ".. raw:: html\n\n   <div class=\"alert alert-success\">\n\nThis value is consistent with what ESA says! $7\\,060\\,160$ km\n\n.. raw:: html\n\n   </div>\n\n\n"
      ]
    },
    {
      "cell_type": "code",
      "execution_count": null,
      "metadata": {
        "collapsed": false
      },
      "outputs": [],
      "source": [
        "abs(((norm(florence_icrs.r - earth.r) - Earth.R) - 7060160 * u.km) / (7060160 * u.km))\n\nfrom IPython.display import HTML\n\nHTML(\n\"\"\"<blockquote class=\"twitter-tweet\" data-lang=\"en\"><p lang=\"es\" dir=\"ltr\">La <a href=\"https://twitter.com/esa_es\">@esa_es</a> ha preparado un resumen del asteroide <a href=\"https://twitter.com/hashtag/Florence?src=hash\">#Florence</a> \ud83d\ude0d <a href=\"https://t.co/Sk1lb7Kz0j\">pic.twitter.com/Sk1lb7Kz0j</a></p>&mdash; AeroPython (@AeroPython) <a href=\"https://twitter.com/AeroPython/status/903197147914543105\">August 31, 2017</a></blockquote>\n<script src=\"//platform.twitter.com/widgets.js\" charset=\"utf-8\"></script>\"\"\"\n)"
      ]
    },
    {
      "cell_type": "markdown",
      "metadata": {},
      "source": [
        "And now we can plot!\n\n\n"
      ]
    },
    {
      "cell_type": "code",
      "execution_count": null,
      "metadata": {
        "collapsed": false
      },
      "outputs": [],
      "source": [
        "frame = plot_solar_system(outer=False, epoch=EPOCH)\nframe.plot(florence_icrs, label=\"Florence\");\nplt.show()"
      ]
    },
    {
      "cell_type": "markdown",
      "metadata": {},
      "source": [
        "The difference between doing it well and doing it wrong is clearly\nvisible:\n\n\n"
      ]
    },
    {
      "cell_type": "code",
      "execution_count": null,
      "metadata": {
        "collapsed": false
      },
      "outputs": [],
      "source": [
        "frame = StaticOrbitPlotter()\n\nframe.plot(earth, label=\"Earth\")\n\nframe.plot(florence, label=\"Florence (Ecliptic)\")\nframe.plot(florence_icrs, label=\"Florence (ICRS)\");\nplt.show()"
      ]
    },
    {
      "cell_type": "markdown",
      "metadata": {},
      "source": [
        "We can express Florence's orbit as viewed from Earth. In order to do\nthat, we must set the Earth as the new attractor by making use of the\n``change_attractor()`` method. However Florence is out of Earth's SOI,\nmeaning that changing the attractor from Sun to Earth has no physical\nsense. We will make use of ``force=True`` argument so this method runs\neven if we know that we are out of new attractor's SOI.\n\n\n"
      ]
    },
    {
      "cell_type": "code",
      "execution_count": null,
      "metadata": {
        "collapsed": false
      },
      "outputs": [],
      "source": [
        "florence_hyper = florence.change_attractor(Earth, force=True)"
      ]
    },
    {
      "cell_type": "markdown",
      "metadata": {},
      "source": [
        "Previous warning was raised since Florence's orbit as seen from Earth is\nhyperbolic. Therefore if user wants to propagate this orbit along time,\nthere will be some point at which the asteroid is out of Earth's\ninfluence (if not already).\n\n\n"
      ]
    },
    {
      "cell_type": "markdown",
      "metadata": {},
      "source": [
        "We now retrieve the ephemerides of the Moon, which are given directly in\nGCRS:\n\n\n"
      ]
    },
    {
      "cell_type": "code",
      "execution_count": null,
      "metadata": {
        "collapsed": false
      },
      "outputs": [],
      "source": [
        "moon = Orbit.from_body_ephem(Moon, EPOCH)\nprint(moon)\n\nmoon.plot(label=Moon);\nplt.show()"
      ]
    },
    {
      "cell_type": "markdown",
      "metadata": {},
      "source": [
        "And now for the final plot:\n\n\n"
      ]
    },
    {
      "cell_type": "code",
      "execution_count": null,
      "metadata": {
        "collapsed": false
      },
      "outputs": [],
      "source": [
        "import matplotlib.pyplot as plt\n\nframe = StaticOrbitPlotter()\n\n# This first plot sets the frame\nframe.plot(florence_hyper, label=\"Florence\")\n\n# And then we add the Moon\nframe.plot(moon, label=Moon)\n\nplt.xlim(-1000000, 8000000)\nplt.ylim(-5000000, 5000000)\n\nplt.gcf().autofmt_xdate()\nplt.show()"
      ]
    },
    {
      "cell_type": "markdown",
      "metadata": {},
      "source": [
        ".. raw:: html\n\n   <div style=\"text-align: center; font-size: 3em;\">\n\nPer Python ad astra!\n\n.. raw:: html\n\n   </div>\n\n\n"
      ]
    }
  ],
  "metadata": {
    "kernelspec": {
      "display_name": "Python 3",
      "language": "python",
      "name": "python3"
    },
    "language_info": {
      "codemirror_mode": {
        "name": "ipython",
        "version": 3
      },
      "file_extension": ".py",
      "mimetype": "text/x-python",
      "name": "python",
      "nbconvert_exporter": "python",
      "pygments_lexer": "ipython3",
      "version": "3.7.5"
    }
  },
  "nbformat": 4,
  "nbformat_minor": 0
}