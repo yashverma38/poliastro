{
  "cells": [
    {
      "cell_type": "code",
      "execution_count": null,
      "metadata": {
        "collapsed": false
      },
      "outputs": [],
      "source": [
        "%matplotlib inline"
      ]
    },
    {
      "cell_type": "markdown",
      "metadata": {},
      "source": [
        "\nComparing Hohmann and bielliptic transfers\n==========================================\n"
      ]
    },
    {
      "cell_type": "code",
      "execution_count": null,
      "metadata": {
        "collapsed": false
      },
      "outputs": [],
      "source": [
        "import numpy as np\nimport matplotlib.pyplot as plt\n\nfrom mpl_toolkits.axes_grid1.inset_locator import zoomed_inset_axes\nfrom mpl_toolkits.axes_grid1.inset_locator import mark_inset\n\nfrom astropy import units as u\n\nfrom poliastro.bodies import Earth\nfrom poliastro.twobody import Orbit\nfrom poliastro.maneuver import Maneuver\n\nZOOM = True\n\nR = np.linspace(2, 75, num=100)\nRstar = [15.58, 40, 60, 100, 200, np.inf]\n\nhohmann_data = np.zeros_like(R)\nbielliptic_data = np.zeros((len(R), len(Rstar)))\n\nss_i = Orbit.circular(Earth, 1.8 * u.km)\nr_i = ss_i.a\nv_i = np.sqrt(ss_i.v.dot(ss_i.v))\nfor ii, r in enumerate(R):\n    r_f = r * r_i\n    man = Maneuver.hohmann(ss_i, r_f)\n    hohmann_data[ii] = (man.get_total_cost() / v_i).decompose().value\n    for jj, rstar in enumerate(Rstar):\n        r_b = rstar * r_i\n        man = Maneuver.bielliptic(ss_i, r_b, r_f)\n        bielliptic_data[ii, jj] = (man.get_total_cost() / v_i).decompose().value\n\nidx_max = np.argmax(hohmann_data)\n\nylims = (0.35, 0.6)\n\nfig, ax = plt.subplots(figsize=(8, 6))\n\nl, = ax.plot(R, hohmann_data, lw=2)\nfor jj in range(len(Rstar)):\n    ax.plot(R, bielliptic_data[:, jj], color=l.get_color())\nax.vlines([11.94, R[idx_max]], *ylims, color='0.6')\n\nif ZOOM:\n    ax_zoom = zoomed_inset_axes(ax, 4, loc=4, axes_kwargs={'facecolor': '0.97'})\n    ax_zoom.plot(R, hohmann_data, lw=2)\n    for jj in range(len(Rstar)):\n        ax_zoom.plot(R, bielliptic_data[:, jj], color=l.get_color())\n    ax_zoom.vlines([11.94, R[idx_max]], *ylims, color='0.6')\n\n    ax_zoom.set_xlim(11.0, 16.0)\n    ax_zoom.set_ylim(0.52, 0.545)\n    ax_zoom.set_xticks([])\n    ax_zoom.set_yticks([])\n    ax_zoom.grid(False)\n    ax_zoom.set_title(\"4x zoom\")\n    mark_inset(ax, ax_zoom, loc1=1, loc2=3, fc=\"none\", ec='0.3')\n\nax.set_xlabel(\"R\")\nax.set_ylabel(\"Relative change in velocity\")\nax.set_ylim(*ylims)\nax.set_xlim(2, 75)\nax.set_title(\"Hohmann vs bielliptic transfers\")\nplt.show()"
      ]
    }
  ],
  "metadata": {
    "kernelspec": {
      "display_name": "Python 3",
      "language": "python",
      "name": "python3"
    },
    "language_info": {
      "codemirror_mode": {
        "name": "ipython",
        "version": 3
      },
      "file_extension": ".py",
      "mimetype": "text/x-python",
      "name": "python",
      "nbconvert_exporter": "python",
      "pygments_lexer": "ipython3",
      "version": "3.7.5"
    }
  },
  "nbformat": 4,
  "nbformat_minor": 0
}