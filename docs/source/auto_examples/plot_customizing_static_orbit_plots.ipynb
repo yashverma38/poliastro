{
  "cells": [
    {
      "cell_type": "code",
      "execution_count": null,
      "metadata": {
        "collapsed": false
      },
      "outputs": [],
      "source": [
        "%matplotlib inline"
      ]
    },
    {
      "cell_type": "markdown",
      "metadata": {},
      "source": [
        "\nCustomising static orbit plots\n==============================\n"
      ]
    },
    {
      "cell_type": "markdown",
      "metadata": {},
      "source": [
        "The default styling for plots works pretty well however sometimes you\nmay need to change things. The following will show you how to change the\nstyle of your plots and have different types of lines and dots\n\nThis is the default plot we will start with:\n\n\n"
      ]
    },
    {
      "cell_type": "code",
      "execution_count": null,
      "metadata": {
        "collapsed": false
      },
      "outputs": [],
      "source": [
        "from astropy.time import Time\nimport matplotlib.pyplot as plt\n\nfrom poliastro.plotting import StaticOrbitPlotter\n\nfrom poliastro.bodies import Earth, Mars, Jupiter, Sun\nfrom poliastro.twobody import Orbit\n\nepoch = Time(\"2018-08-17 12:05:50\", scale=\"tdb\")\n\nplotter = StaticOrbitPlotter()\nplotter.plot(Orbit.from_body_ephem(Earth, epoch), label=\"Earth\")\nplotter.plot(Orbit.from_body_ephem(Mars, epoch), label=\"Mars\")\nplotter.plot(Orbit.from_body_ephem(Jupiter, epoch), label=\"Jupiter\");\nplt.show()\n\nepoch = Time(\"2018-08-17 12:05:50\", scale=\"tdb\")\n\nplotter = StaticOrbitPlotter()\nearth_plots = plotter.plot(Orbit.from_body_ephem(Earth, epoch), label=Earth)\n\nearth_plots[0].set_linestyle(\"-\")  # solid line\nearth_plots[0].set_linewidth(0.5)\nearth_plots[1].set_marker(\"H\")  # Hexagon\nearth_plots[1].set_markersize(15)\n\nmars_plots = plotter.plot(Orbit.from_body_ephem(Mars, epoch), label=Mars)\njupiter_plots = plotter.plot(Orbit.from_body_ephem(Jupiter, epoch), label=Jupiter)\nplt.show()"
      ]
    },
    {
      "cell_type": "markdown",
      "metadata": {},
      "source": [
        "Here we get hold of the lines list from the ``OrbitPlotter.plot`` method\nthis is a list of lines. The first is the orbit line. The second is the\ncurrent position marker. With the matplotlib lines objects we can start\nchanging the style. First we make the line solid but thin line. Then we\nchange the current position marker to a large hexagon.\n\nMore details of the style options for the markers can be found here:\nhttps://matplotlib.org/2.0.2/api/markers\\_api.html#module-matplotlib.markers\nMore details of the style options on lines can be found here:\nhttps://matplotlib.org/2.0.2/api/lines\\_api.html However make sure that\nyou use the set methods rather than just changing the attributes as the\nmethods will force a re-draw of the plot.\n\nNext we will make some changes to the other two orbits.\n\n\n"
      ]
    },
    {
      "cell_type": "code",
      "execution_count": null,
      "metadata": {
        "collapsed": false
      },
      "outputs": [],
      "source": [
        "epoch = Time(\"2018-08-17 12:05:50\", scale=\"tdb\")\n\nplotter = StaticOrbitPlotter()\n\nearth_plots = plotter.plot(Orbit.from_body_ephem(Earth, epoch), label=Earth)\nearth_plots[0].set_linestyle(\"-\")  # solid line\nearth_plots[0].set_linewidth(0.5)\nearth_plots[1].set_marker(\"H\")  # Hexagon\nearth_plots[1].set_markersize(15)\n\nmars_plots = plotter.plot(Orbit.from_body_ephem(Mars, epoch), label=Mars)\nmars_plots[0].set_dashes([0, 1, 0, 1, 1, 0])\nmars_plots[0].set_linewidth(2)\nmars_plots[1].set_marker(\"D\")  # Diamond\nmars_plots[1].set_markersize(15)\nmars_plots[1].set_fillstyle(\"none\")\n# make sure this is set if you use fillstyle 'none'\nmars_plots[1].set_markeredgewidth(1)\n\njupiter_plots = plotter.plot(Orbit.from_body_ephem(Jupiter, epoch), label=Jupiter)\njupiter_plots[0].set_linestyle(\"\")  # No line\njupiter_plots[1].set_marker(\"*\")  # star\njupiter_plots[1].set_markersize(15)\nplt.show()"
      ]
    },
    {
      "cell_type": "markdown",
      "metadata": {},
      "source": [
        "You can also change the style of the plot using the matplotlib axis\nwhich can be aquired from the OrbitPlotter()\n\nSee the folling example that creates a grid, adds a title, and makes the\nbackground transparent. To make the changes clearer it goes back to the\ninital example.\n\n\n"
      ]
    },
    {
      "cell_type": "code",
      "execution_count": null,
      "metadata": {
        "collapsed": false
      },
      "outputs": [],
      "source": [
        "epoch = Time(\"2018-08-17 12:05:50\", scale=\"tdb\")\n\nfig, ax = plt.subplots()\n\nax.grid(True)\nax.set_title(\"Earth, Mars, and Jupiter\")\nax.set_facecolor(\"None\")\n\nplotter = StaticOrbitPlotter(ax)\n\nplotter.plot(Orbit.from_body_ephem(Earth, epoch), label=Earth)\nplotter.plot(Orbit.from_body_ephem(Mars, epoch), label=Mars)\nplotter.plot(Orbit.from_body_ephem(Jupiter, epoch), label=Jupiter)\nplt.show()"
      ]
    }
  ],
  "metadata": {
    "kernelspec": {
      "display_name": "Python 3",
      "language": "python",
      "name": "python3"
    },
    "language_info": {
      "codemirror_mode": {
        "name": "ipython",
        "version": 3
      },
      "file_extension": ".py",
      "mimetype": "text/x-python",
      "name": "python",
      "nbconvert_exporter": "python",
      "pygments_lexer": "ipython3",
      "version": "3.7.5"
    }
  },
  "nbformat": 4,
  "nbformat_minor": 0
}