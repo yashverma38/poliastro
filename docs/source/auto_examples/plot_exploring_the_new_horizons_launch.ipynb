{
  "cells": [
    {
      "cell_type": "code",
      "execution_count": null,
      "metadata": {
        "collapsed": false
      },
      "outputs": [],
      "source": [
        "%matplotlib inline"
      ]
    },
    {
      "cell_type": "markdown",
      "metadata": {},
      "source": [
        "\nNew Horizons launch and trajectory\n==================================\n\nMain data source: Guo & Farquhar \"New Horizons Mission Design\"\nhttp://www.boulder.swri.edu/pkb/ssr/ssr-mission-design.pdf\n"
      ]
    },
    {
      "cell_type": "code",
      "execution_count": null,
      "metadata": {
        "collapsed": false
      },
      "outputs": [],
      "source": [
        "from astropy import time\nfrom astropy import units as u\nimport matplotlib.pyplot as plt\n\nfrom poliastro.bodies import Sun, Earth, Jupiter\nfrom poliastro.twobody import Orbit\nfrom poliastro.plotting import StaticOrbitPlotter\nfrom poliastro import iod\nfrom poliastro.util import norm"
      ]
    },
    {
      "cell_type": "markdown",
      "metadata": {},
      "source": [
        "Parking orbit\n-------------\n\nQuoting from \"New Horizons Mission Design\":\n\n    It was first inserted into an elliptical Earth parking orbit of\n    **perigee altitude 165 km** and **apogee altitude 215 km**.\n    [Emphasis mine]\n\n\n"
      ]
    },
    {
      "cell_type": "code",
      "execution_count": null,
      "metadata": {
        "collapsed": false
      },
      "outputs": [],
      "source": [
        "r_p = Earth.R + 165 * u.km\nr_a = Earth.R + 215 * u.km\n\na_parking = (r_p + r_a) / 2\necc_parking = 1 - r_p / a_parking\n\nparking = Orbit.from_classical(\n    Earth,\n    a_parking,\n    ecc_parking,\n    0 * u.deg,\n    0 * u.deg,\n    0 * u.deg,\n    0 * u.deg,  # We don't mind\n    time.Time(\"2006-01-19\", scale=\"utc\"),\n)\n\nprint(parking.v)\nparking.plot();\nplt.show()"
      ]
    },
    {
      "cell_type": "markdown",
      "metadata": {},
      "source": [
        "Hyperbolic exit\n---------------\n\nHyperbolic excess velocity:\n\n\\begin{align}v_{\\infty}^2 = \\frac{\\mu}{-a} = 2 \\varepsilon = C_3\\end{align}\n\nRelation between orbital velocity $v$, local escape velocity\n$v_e$ and hyperbolic excess velocity $v_{\\infty}$:\n\n\\begin{align}v^2 = v_e^2 + v_{\\infty}^2\\end{align}\n\nOption a): Insert $C_3$ from report, check $v_e$ at parking perigee\n~~~~~~~~~~~~~~~~~~~~~~~~~~~~~~~~~~~~~~~~~~~~~~~~~~~~~~~~~~~~~~~~~~~~~~~~~~~~~~~\n\n\n"
      ]
    },
    {
      "cell_type": "code",
      "execution_count": null,
      "metadata": {
        "collapsed": false
      },
      "outputs": [],
      "source": [
        "C_3_A = 157.6561 * u.km ** 2 / u.s ** 2  # Designed\n\na_exit = -(Earth.k / C_3_A).to(u.km)\necc_exit = 1 - r_p / a_exit\n\nexit = Orbit.from_classical(\n    Earth,\n    a_exit,\n    ecc_exit,\n    0 * u.deg,\n    0 * u.deg,\n    0 * u.deg,\n    0 * u.deg,  # We don't mind\n    time.Time(\"2006-01-19\", scale=\"utc\"),\n)\n\nprint(norm(exit.v).to(u.km / u.s))"
      ]
    },
    {
      "cell_type": "markdown",
      "metadata": {},
      "source": [
        "Quoting \"New Horizons Mission Design\":\n\n    After a short coast in the parking orbit, the spacecraft was then\n    injected into the desired heliocentric orbit by the Centaur second\n    stage and Star 48B third stage. At the Star 48B burnout, the New\n    Horizons spacecraft reached the highest Earth departure speed,\n    **estimated at 16.2 km/s**, becoming the fastest spacecraft ever\n    launched from Earth. [Emphasis mine]\n\n\n"
      ]
    },
    {
      "cell_type": "code",
      "execution_count": null,
      "metadata": {
        "collapsed": false
      },
      "outputs": [],
      "source": [
        "v_estimated = 16.2 * u.km / u.s\n\nprint(\n    \"Relative error of {:.2f} %\".format(\n        (norm(exit.v) - v_estimated) / v_estimated * 100\n    )\n)"
      ]
    },
    {
      "cell_type": "markdown",
      "metadata": {},
      "source": [
        "So it stays within the same order of magnitude. Which is reasonable,\nbecause real life burns are not instantaneous.\n\n\n"
      ]
    },
    {
      "cell_type": "code",
      "execution_count": null,
      "metadata": {
        "collapsed": false
      },
      "outputs": [],
      "source": [
        "fig, ax = plt.subplots(figsize=(8, 8))\nop = StaticOrbitPlotter(ax=ax)\n\nop.plot(parking)\nop.plot(exit)\n\nax.set_xlim(-8000, 8000)\nax.set_ylim(-20000, 20000);\nplt.show()"
      ]
    },
    {
      "cell_type": "markdown",
      "metadata": {},
      "source": [
        "Option b): Compute $v_{\\infty}$ using the Jupyter flyby\n~~~~~~~~~~~~~~~~~~~~~~~~~~~~~~~~~~~~~~~~~~~~~~~~~~~~~~~~~~~~~\n\nAccording to Wikipedia, the closest approach occurred at 05:43:40 UTC.\nWe can use this data to compute the solution of the Lambert problem\nbetween the Earth and Jupiter.\n\n\n"
      ]
    },
    {
      "cell_type": "code",
      "execution_count": null,
      "metadata": {
        "collapsed": false
      },
      "outputs": [],
      "source": [
        "nh_date = time.Time(\"2006-01-19 19:00\", scale=\"utc\")\nnh_flyby_date = time.Time(\"2007-02-28 05:43:40\", scale=\"utc\")\nnh_tof = nh_flyby_date - nh_date\n\nnh_earth = Orbit.from_body_ephem(Earth, nh_date)\nnh_r_0, v_earth = nh_earth.rv()\n\nnh_jup = Orbit.from_body_ephem(Jupiter, nh_flyby_date)\nnh_r_f, v_jup = nh_jup.rv()\n\n(nh_v_0, nh_v_f), = iod.lambert(Sun.k, nh_r_0, nh_r_f, nh_tof)"
      ]
    },
    {
      "cell_type": "markdown",
      "metadata": {},
      "source": [
        "The hyperbolic excess velocity is measured with respect to the Earth:\n\n\n"
      ]
    },
    {
      "cell_type": "code",
      "execution_count": null,
      "metadata": {
        "collapsed": false
      },
      "outputs": [],
      "source": [
        "C_3_lambert = (norm(nh_v_0 - v_earth)).to(u.km / u.s) ** 2\nprint(C_3_lambert)\n\nprint(\"Relative error of {:.2f} %\".format((C_3_lambert - C_3_A) / C_3_A * 100))"
      ]
    },
    {
      "cell_type": "markdown",
      "metadata": {},
      "source": [
        "Which again, stays within the same order of magnitude of the figure\ngiven to the Guo & Farquhar report.\n\n\n"
      ]
    },
    {
      "cell_type": "markdown",
      "metadata": {},
      "source": [
        "From Earth to Jupiter\n---------------------\n\n\n"
      ]
    },
    {
      "cell_type": "code",
      "execution_count": null,
      "metadata": {
        "collapsed": false
      },
      "outputs": [],
      "source": [
        "nh = Orbit.from_vectors(Sun, nh_r_0.to(u.km), nh_v_0.to(u.km / u.s), nh_date)\n\nop = StaticOrbitPlotter()\n\nop.plot(nh_jup, label=Jupiter)\nop.plot(nh_earth, label=Earth)\nop.plot(nh, label=\"New Horizons\");\nplt.show()"
      ]
    }
  ],
  "metadata": {
    "kernelspec": {
      "display_name": "Python 3",
      "language": "python",
      "name": "python3"
    },
    "language_info": {
      "codemirror_mode": {
        "name": "ipython",
        "version": 3
      },
      "file_extension": ".py",
      "mimetype": "text/x-python",
      "name": "python",
      "nbconvert_exporter": "python",
      "pygments_lexer": "ipython3",
      "version": "3.7.5"
    }
  },
  "nbformat": 4,
  "nbformat_minor": 0
}