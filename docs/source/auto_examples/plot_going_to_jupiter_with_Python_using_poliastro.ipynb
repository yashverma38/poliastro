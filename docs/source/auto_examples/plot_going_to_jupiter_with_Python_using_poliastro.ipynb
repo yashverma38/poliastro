{
  "cells": [
    {
      "cell_type": "code",
      "execution_count": null,
      "metadata": {
        "collapsed": false
      },
      "outputs": [],
      "source": [
        "%matplotlib inline"
      ]
    },
    {
      "cell_type": "markdown",
      "metadata": {},
      "source": [
        "\nGoing to Jupiter with Python using Jupyter and poliastro\n========================================================\n\nLet us recreate with real data the `Juno NASSA\nMission <https://www.jpl.nasa.gov/news/press_kits/juno/overview/>`__.\nThe main objectives of Juno spacecraft is to study the Jupiter planet:\nhow was its formation, its evolution along time, atmospheric\ncharacteristics...\n\n.. figure:: images/juno_spacecraft.png\n   :alt: Juno Image\n\n   Juno Image\n\nFirst of all, let us import some of our favourite Python packages:\nnumpy, astropy and poliastro!\n"
      ]
    },
    {
      "cell_type": "code",
      "execution_count": null,
      "metadata": {
        "collapsed": false
      },
      "outputs": [],
      "source": [
        "import numpy as np\n\nimport astropy.units as u\nimport matplotlib.pyplot as plt\nfrom astropy.time import Time\nfrom astropy.coordinates import solar_system_ephemeris\n\nfrom poliastro.bodies import Sun, Earth, Jupiter\nfrom poliastro.twobody import Orbit\nfrom poliastro.maneuver import Maneuver\nfrom poliastro.plotting import StaticOrbitPlotter\nfrom poliastro.util import norm\n\nsolar_system_ephemeris.set(\"jpl\")"
      ]
    },
    {
      "cell_type": "markdown",
      "metadata": {},
      "source": [
        "All the data for Juno's mission is sorted\n`here <https://github.com/poliastro/poliastro/wiki/EuroPython:-Per-Python-ad-Astra>`__.\nThe main maneuvers that the spacecraft will perform are listed down:\n\n-  Inner cruise phase 1: This will set Juno in a new orbit around the\n   sun.\n-  Inner cruise phase 2: Fly-by around Earth. Gravity assist is\n   performed.\n-  Inner cruise phase 3: Jupiter insertion maneuver.\n\nLet us first define the main dates other relevant parameters of the\nmission.\n\n\n"
      ]
    },
    {
      "cell_type": "code",
      "execution_count": null,
      "metadata": {
        "collapsed": false
      },
      "outputs": [],
      "source": [
        "## Main dates\ndate_launch = Time(\"2011-08-05 16:25\", scale=\"utc\")\ndate_flyby = Time(\"2013-10-09 19:21\", scale=\"utc\")\ndate_arrival = Time(\"2016-07-05 03:18\", scale=\"utc\")\n\n# Atlas V supplied a launch energy\nC_3 = 31.1 * u.km ** 2 / u.s ** 2"
      ]
    },
    {
      "cell_type": "markdown",
      "metadata": {},
      "source": [
        "With previous dates we can create the different orbits that define the\nposition of the Earth along the mission.\n\n\n"
      ]
    },
    {
      "cell_type": "code",
      "execution_count": null,
      "metadata": {
        "collapsed": false
      },
      "outputs": [],
      "source": [
        "# Initial state of the Earth\nss_e0 = Orbit.from_body_ephem(Earth, date_launch)\nr_e0, v_e0 = ss_e0.rv()\n\n# State of the Earth the day of the flyby\nss_efly = Orbit.from_body_ephem(Earth, date_flyby)\nr_efly, v_efly = ss_efly.rv()\n\n# Plot initial Earth's position\nplotter = StaticOrbitPlotter()\nplotter.plot(ss_e0, label=\"Initial Earth's position\", color=\"blue\")\nplt.show()"
      ]
    },
    {
      "cell_type": "markdown",
      "metadata": {},
      "source": [
        "Since both Earth states have been obtained (initial and flyby) we can\nnow solve for Juno's maneuvers. The first one sets Juno into an\nelliptical orbit around the Sun so it apply a gravity assist around the\nEarth.\n\n\n"
      ]
    },
    {
      "cell_type": "code",
      "execution_count": null,
      "metadata": {
        "collapsed": false
      },
      "outputs": [],
      "source": [
        "# Assume that the insertion velocity is tangential to that of the Earth\ndv = C_3 ** 0.5 * v_e0 / norm(v_e0)\n\n# We create the maneuver from impulse constructor\nman = Maneuver.impulse(dv)"
      ]
    },
    {
      "cell_type": "markdown",
      "metadata": {},
      "source": [
        "If we now apply previous maneuver to the Junos's initial orbit (assume\nit is the Earth's one for simplicity), we will obtain the orbit around\nthe Sun for Juno. The first inner cruise maneuver is defined just till\nthe ahelion orbit. While Juno is traveling around its new orbit, Earth\nis also moving. After Juno reaches the aphelion it will be necessary to\napply a second maneuver so the flyby is performed around Earth. Once\nthat is achieved a final maneuver will be made in order to benefit from\nthe gravity assist. Let us first propagate Juno's orbit till the\naphelion.\n\n\n"
      ]
    },
    {
      "cell_type": "code",
      "execution_count": null,
      "metadata": {
        "collapsed": false
      },
      "outputs": [],
      "source": [
        "# Inner Cruise 1\nic1 = ss_e0.apply_maneuver(man)\nic1_end = ic1.propagate_to_anomaly(180.0 * u.deg)\n\n# We solve for Earth's position when Juno is at aphelion\nss_e_ic1 = Orbit.from_body_ephem(Earth, epoch=ic1_end.epoch)\n\n# We can check new bodies positions\nplotter = StaticOrbitPlotter()\nplotter.plot(ss_e_ic1, label=\"Earth's position at flyby\", color=\"blue\")\nplotter.plot_trajectory(ic1_end.sample(min_anomaly=0*u.deg, max_anomaly=180*u.deg),\n                        label=\"Inner cruise 1 full orbit\",\n                        color=\"orange\")\nplt.show()"
      ]
    },
    {
      "cell_type": "markdown",
      "metadata": {},
      "source": [
        "We can check that the period of the orbit is similar to the one stated\nin the mission's documentation. Remember that in previous plot we only\nplotter half of the orbit for Juno first maneuver and the period is the\ntime that would take Juno to complete one full revolution around this\nnew orbit.\n\n\n"
      ]
    },
    {
      "cell_type": "code",
      "execution_count": null,
      "metadata": {
        "collapsed": false
      },
      "outputs": [],
      "source": [
        "print(ic1.period.to(u.day))"
      ]
    },
    {
      "cell_type": "markdown",
      "metadata": {},
      "source": [
        "Notice in previous plot that Earth's position is not the initial one\nsince while Juno is moving Earth also does. We now solve for the Lambert\nmaneuver in order to perform a flyby around the earth when it is at\nflyby date.\n\n\n"
      ]
    },
    {
      "cell_type": "code",
      "execution_count": null,
      "metadata": {
        "collapsed": false
      },
      "outputs": [],
      "source": [
        "# Let's compute the Lambert solution to do the flyby of the Earth\nman_flyby = Maneuver.lambert(ic1_end, ss_efly)\nimp_a, imp_b = man_flyby.impulses\n\nprint(\"Initial impulse:\", imp_a)\nprint(\"Final impulse:\", imp_b)\n\n# Check the initial delta-V\ndv_a = imp_a[-1]\nprint(norm(dv_a))"
      ]
    },
    {
      "cell_type": "markdown",
      "metadata": {},
      "source": [
        "We can now solve for the flyby orbit that will help Juno with the\ngravity assist. Again, the inner pahse 2 maneuver is define till Juno\nreaches Earth's position for the flyby date although the full orbit is\nplotted.\n\n\n"
      ]
    },
    {
      "cell_type": "code",
      "execution_count": null,
      "metadata": {
        "collapsed": false
      },
      "outputs": [],
      "source": [
        "# Let us apply the maneuver\nic2, ss_flyby = ic1_end.apply_maneuver(man_flyby, intermediate=True)\n\n# We propagate the transfer orbit till the flyby occurs\nic2_end = ic2.propagate(date_flyby)\n\nplotter = StaticOrbitPlotter()\nplotter.plot(ss_efly, label=\"Earth's position at flyby\", color=\"blue\")\nplotter.plot_trajectory(ic1.sample(max_anomaly=180*u.deg),\n                        label=\"Inner cruise 1\",\n                        color=\"orange\")\nplotter.plot_trajectory(ic2_end.sample(min_anomaly=180*u.deg, max_anomaly=400*u.deg),\n                        label=\"Inner cruise 2 full orbit\",\n                        color=\"green\")\nplt.show()"
      ]
    },
    {
      "cell_type": "markdown",
      "metadata": {},
      "source": [
        "We can now start solving for the manuever that will take Juno to\nJupiter. Another Lmabert maneuver is required but first let us solve for\nJupiter position on arrival.\n\n\n"
      ]
    },
    {
      "cell_type": "code",
      "execution_count": null,
      "metadata": {
        "collapsed": false
      },
      "outputs": [],
      "source": [
        "# And now, go to Jupiter!\nss_j = Orbit.from_body_ephem(Jupiter, date_arrival)\n\n# Solving for maneuver to Jupiter\nman_jupiter = Maneuver.lambert(ic2_end, ss_j)\nimp_a, imp_b = man_jupiter.impulses\n\nprint(\"Initial impulse:\", imp_a)\nprint(\"Final impulse:\", imp_b)"
      ]
    },
    {
      "cell_type": "markdown",
      "metadata": {},
      "source": [
        "Again, we apply the maneuver.\n\n\n"
      ]
    },
    {
      "cell_type": "code",
      "execution_count": null,
      "metadata": {
        "collapsed": false
      },
      "outputs": [],
      "source": [
        "# Apply the maneuver\nic3, ss_target = ic2_end.apply_maneuver(man_jupiter, intermediate=True)\nic3_end = ic3.propagate(date_arrival)"
      ]
    },
    {
      "cell_type": "markdown",
      "metadata": {},
      "source": [
        "Finally, we can plot all the different phases of the mission. This shows\nthe whole power of *poliastro* package, since a beautiful image is\ncreated showing the whole maneuvering process.\n\n\n"
      ]
    },
    {
      "cell_type": "code",
      "execution_count": null,
      "metadata": {
        "collapsed": false
      },
      "outputs": [],
      "source": [
        "# Final plot for the whole mission\nplotter = StaticOrbitPlotter()\nplotter.plot(ss_efly, label=\"Earth's position at flyby\", color=\"blue\", trail=True)\nplotter.plot_trajectory(ic1.sample(max_anomaly=180*u.deg),\n                        label=\"Inner cruise 1\",\n                        color=\"orange\")\nplotter.plot_trajectory(ic2.sample(min_anomaly=180*u.deg, max_anomaly=400*u.deg),\n                        label=\"Inner cruise 2\",\n                        color=\"green\")\nplotter.plot_trajectory(ic3.sample(min_anomaly=10*u.deg, max_anomaly=180*u.deg),\n                        label=\"Inner cruise 3\",\n                        color=\"red\")\nplotter.plot(ss_j, label=\"Jupiter's position at arrival\", color=\"purple\", trail=True)\nplt.show()"
      ]
    }
  ],
  "metadata": {
    "kernelspec": {
      "display_name": "Python 3",
      "language": "python",
      "name": "python3"
    },
    "language_info": {
      "codemirror_mode": {
        "name": "ipython",
        "version": 3
      },
      "file_extension": ".py",
      "mimetype": "text/x-python",
      "name": "python",
      "nbconvert_exporter": "python",
      "pygments_lexer": "ipython3",
      "version": "3.7.5"
    }
  },
  "nbformat": 4,
  "nbformat_minor": 0
}