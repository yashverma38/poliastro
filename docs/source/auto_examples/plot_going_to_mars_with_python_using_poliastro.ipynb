{
  "cells": [
    {
      "cell_type": "code",
      "execution_count": null,
      "metadata": {
        "collapsed": false
      },
      "outputs": [],
      "source": [
        "%matplotlib inline"
      ]
    },
    {
      "cell_type": "markdown",
      "metadata": {},
      "source": [
        "\nGoing to Mars with Python using poliastro\n=========================================\n\nThis is an example on how to use\n`poliastro <https://github.com/poliastro/poliastro>`__, a little library\nI've been working on to use in my Astrodynamics lessons. It features\nconversion between **classical orbital elements** and position vectors,\npropagation of **Keplerian orbits**, initial orbit determination using\nthe solution of the **Lambert's problem** and **orbit plotting**.\n\nIn this example we're going to draw the trajectory of the mission `Mars\nScience Laboratory (MSL) <http://mars.jpl.nasa.gov/msl/>`__, which\ncarried the rover Curiosity to the surface of Mars in a period of\nsomething less than 9 months.\n\n**Note**: This is a very simplistic analysis which doesn't take into\naccount many important factors of the mission, but can serve as an\nstarting point for more serious computations (and as a side effect\nproduces a beautiful plot at the end).\n"
      ]
    },
    {
      "cell_type": "markdown",
      "metadata": {},
      "source": [
        "First of all, we import the necessary modules. Apart from poliastro we\nwill make use of astropy to deal with physical units and time\ndefinitions and jplephem to compute the positions and velocities of the\nplanets.\n\n\n"
      ]
    },
    {
      "cell_type": "code",
      "execution_count": null,
      "metadata": {
        "collapsed": false
      },
      "outputs": [],
      "source": [
        "import numpy as np\n\nimport astropy.units as u\nimport matplotlib.pyplot as plt\nfrom astropy import time\n\nfrom poliastro import iod\nfrom poliastro.bodies import Earth, Mars, Sun\nfrom poliastro.twobody import Orbit\nfrom poliastro.maneuver import Maneuver\n\nimport plotly"
      ]
    },
    {
      "cell_type": "markdown",
      "metadata": {},
      "source": [
        "We need a binary file from NASA called *SPICE kernel* to compute the\nposition and velocities of the planets. Astropy downloads it for us:\n\n\n"
      ]
    },
    {
      "cell_type": "code",
      "execution_count": null,
      "metadata": {
        "collapsed": false
      },
      "outputs": [],
      "source": [
        "from astropy.coordinates import solar_system_ephemeris\nsolar_system_ephemeris.set(\"jpl\")"
      ]
    },
    {
      "cell_type": "markdown",
      "metadata": {},
      "source": [
        "The initial data was gathered from Wikipedia: the date of the launch was\non **November 26, 2011 at 15:02 UTC** and landing was on **August 6,\n2012 at 05:17 UTC**. We compute then the time of flight, which is\nexactly what it sounds.\n\n\n"
      ]
    },
    {
      "cell_type": "code",
      "execution_count": null,
      "metadata": {
        "collapsed": false
      },
      "outputs": [],
      "source": [
        "# Initial data\ndate_launch = time.Time(\"2011-11-26 15:02\", scale=\"utc\")\ndate_arrival = time.Time(\"2012-08-06 05:17\", scale=\"utc\")"
      ]
    },
    {
      "cell_type": "markdown",
      "metadata": {},
      "source": [
        "To compute the transfer orbit, we have the useful function ``lambert`` :\naccording to a theorem with the same name, *the transfer orbit between\ntwo points in space only depends on those two points and the time it\ntakes to go from one to the other*. We could make use of the raw\nalgorithms available in ``poliastro.iod`` for solving this but working\nwith the ``poliastro.maneuvers`` is even easier!\n\nWe just need to create the orbits for each one of the planets at the\nspecific departure and arrival dates.\n\n\n"
      ]
    },
    {
      "cell_type": "code",
      "execution_count": null,
      "metadata": {
        "collapsed": false
      },
      "outputs": [],
      "source": [
        "# Solve for departure and target orbits\nss_earth = Orbit.from_body_ephem(Earth, date_launch)\nss_mars = Orbit.from_body_ephem(Mars, date_arrival)"
      ]
    },
    {
      "cell_type": "markdown",
      "metadata": {},
      "source": [
        "We can now solve for the maneuver that will take us from Earth to Mars.\nAfter solving it, we just need to apply it to the departure orbit to\nsolve for the transfer one.\n\n\n"
      ]
    },
    {
      "cell_type": "code",
      "execution_count": null,
      "metadata": {
        "collapsed": false
      },
      "outputs": [],
      "source": [
        "# Solve for the transfer maneuver\nman_lambert = Maneuver.lambert(ss_earth, ss_mars)\n\n# Get the transfer and final orbits\nss_trans, ss_target = ss_earth.apply_maneuver(man_lambert, intermediate=True)"
      ]
    },
    {
      "cell_type": "markdown",
      "metadata": {},
      "source": [
        "Let's plot this transfer orbit in 3D!\n\n\n"
      ]
    },
    {
      "cell_type": "code",
      "execution_count": null,
      "metadata": {
        "collapsed": false
      },
      "outputs": [],
      "source": [
        "from poliastro.plotting import OrbitPlotter3D\n\nplotter = OrbitPlotter3D()\nplotter.plot(ss_earth, label=\"Earth at launch position\", color=\"navy\")\nplotter.plot(ss_mars, label=\"Mars at arrival position\", color=\"red\")\nplotter.plot_trajectory(ss_trans.sample(max_anomaly=180*u.deg), color=\"black\", label=\"Transfer orbit\")\nfig = plotter.set_view(30 * u.deg, 260 * u.deg, distance=3 * u.km)\nplotly.io.show(fig)"
      ]
    },
    {
      "cell_type": "markdown",
      "metadata": {},
      "source": [
        "Not bad! Let's celebrate with some music!\n\n\n"
      ]
    },
    {
      "cell_type": "code",
      "execution_count": null,
      "metadata": {
        "collapsed": false
      },
      "outputs": [],
      "source": [
        "from IPython.display import YouTubeVideo\nYouTubeVideo('zSgiXGELjbc')"
      ]
    }
  ],
  "metadata": {
    "kernelspec": {
      "display_name": "Python 3",
      "language": "python",
      "name": "python3"
    },
    "language_info": {
      "codemirror_mode": {
        "name": "ipython",
        "version": 3
      },
      "file_extension": ".py",
      "mimetype": "text/x-python",
      "name": "python",
      "nbconvert_exporter": "python",
      "pygments_lexer": "ipython3",
      "version": "3.7.5"
    }
  },
  "nbformat": 4,
  "nbformat_minor": 0
}