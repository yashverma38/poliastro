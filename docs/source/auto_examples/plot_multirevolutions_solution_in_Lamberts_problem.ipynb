{
  "cells": [
    {
      "cell_type": "code",
      "execution_count": null,
      "metadata": {
        "collapsed": false
      },
      "outputs": [],
      "source": [
        "%matplotlib inline"
      ]
    },
    {
      "cell_type": "markdown",
      "metadata": {},
      "source": [
        "\nMultiple revolutions on Lambert's problem\n-----------------------------------------\n\nAfter the implementation of Izzo's algorithm in *poliastro*, it is\npossible to solve the Lambert's problem with a multiple revolution\nsolution. Let us remember first what is this problem about and which\napplications does it have.\n\nLambert problem tries to solve the orbit that passes trhough\n$\u000bec{r_{0}}$ and $\u000bec{r_{f}}$ being given an amount of\ntime usually denoted by $\\Delta t$. This can be used to solve for\ninterplanetary flights, for example if we know the position of Earth at\n$t_{0}$ and the position of Mars at time $t_{f}$ we can\nsolve for the orbit that we must follow in order to get to the red\nplanet.\n\nWhat are multiple revolutions and why do we care about them?\n~~~~~~~~~~~~~~~~~~~~~~~~~~~~~~~~~~~~~~~~~~~~~~~~~~~~~~~~~~~~\n\nThe basic Lambert algorithm looks for a direc transfer, which can be be\na short or long arc transfer as stated by the figure. There exist a\ntotal of three orbit solutions defined by the location of the focus for\nthose transfer orbits:\n\n1. **Minimum-energy orbit**: also called the optimal path. In this case\n   the focus lies in the line that conects $\u000bec{r_{1}}$ and\n   $\u000bec{r_{2}}$.\n2. **Short arc orbit**: both focis $F_{1}$ and $F_{2}^{*}$\n   of the transfer orbit lie in the same side of the line connecting\n   both position vectors.\n3. **Long arc orbit**: each one of the transfer orbit focus lies in a\n   different side of the line connecting both position vectors.\n\n.. figure:: images/lambert_paths.png\n   :alt: \n\nHowever it is possible to make more than one revolution in order to\nachieve the target position. So therefore, we end up having a different\nset of possible transfers depending on:\n\n-  A short or long path.\n-  The number of revolutions, usually denoted by: $M=0$,\n   $M=1$, $M=2$, ...\n-  Solution number for those revolutions, denoted by: $S_{1}$ and\n   $S_{2}$\n\nLet us see all this combinations by making use of *poliastro*!\n"
      ]
    },
    {
      "cell_type": "code",
      "execution_count": null,
      "metadata": {
        "collapsed": false
      },
      "outputs": [],
      "source": [
        "from astropy import units as u\nimport matplotlib.pyplot as plt\nfrom astropy.time import Time\n\nfrom poliastro.bodies import Earth, Mars\nfrom poliastro.twobody import Orbit\nfrom poliastro.maneuver import Maneuver\nfrom poliastro.plotting.static import StaticOrbitPlotter\n\n\n# Departure and time of flight for the mission\nEPOCH_DPT = Time(\"2018-12-01\")\nEPOCH_ARR = EPOCH_DPT + 2 * u.year\n\n# Origin and target orbits\nss_earth = Orbit.from_body_ephem(Earth, epoch=EPOCH_DPT)\nss_mars = Orbit.from_body_ephem(Mars, epoch=EPOCH_ARR)\n\ndef lambert_transfer(ss_dpt, ss_arr, revs):\n    \"\"\" Returns the short and long transfer orbits when solving Lambert's problem.\n    \n    Parameters\n    ----------\n    ss_dpt: poliastro.twobody.Orbit\n        Deprature orbit.\n    ss_arr: poliastro.twobody.Orbit\n        Arrival orbit.\n    revs: int\n        Number of revolutions.\n    \n    Returns\n    -------\n    ss_short: poliastro.twobody.Orbit\n        Short transfer orbit.\n    ss_long: poliastro.twobody.Orbit\n        Long transfer orbit.\n    \"\"\"\n    \n    # Solving for short and long maneuvers\n    lambert_short = Maneuver.lambert(ss_earth, ss_mars, short=True, M=revs)\n    lambert_long = Maneuver.lambert(ss_earth, ss_mars, short=False, M=revs)\n    \n    # Aplly both maneuvers\n    ss_short, _ = ss_dpt.apply_maneuver(lambert_short, intermediate=True)\n    ss_long, _ = ss_dpt.apply_maneuver(lambert_long, intermediate=True)\n\n    return ss_short, ss_long"
      ]
    },
    {
      "cell_type": "markdown",
      "metadata": {},
      "source": [
        "Solutions for M=0\n~~~~~~~~~~~~~~~~~\n\nBy making use of the previous defined function, we can easily get the\ndifferent transfer orbit regarding the number of required revolutions,\nin this case 0.\n\n\n"
      ]
    },
    {
      "cell_type": "code",
      "execution_count": null,
      "metadata": {
        "collapsed": false
      },
      "outputs": [],
      "source": [
        "# Solving for direct (M=0) transfer long and short arcs\nss_short0, ss_long0 = lambert_transfer(ss_earth, ss_mars, revs=0)\n\nfig, ax = plt.subplots(figsize=(5,10))\nop = StaticOrbitPlotter(ax=ax)\nax.set_title(\"Direct arc transfer ($M=0$)\")\n\norbit_set = {ss_earth: [\"Earth\", \"navy\"],\n            ss_mars: [\"Mars\", \"darkred\"],\n            ss_short0: [\"Short0\", \"black\"],\n            ss_long0: [\"Long0\", \"grey\"]}\n\nfor ss in orbit_set:\n    op.plot(ss, label=orbit_set[ss][0], color=orbit_set[ss][-1])\nplt.show()"
      ]
    },
    {
      "cell_type": "markdown",
      "metadata": {},
      "source": [
        "Solutions for M=1\n~~~~~~~~~~~~~~~~~\n\n\n"
      ]
    },
    {
      "cell_type": "code",
      "execution_count": null,
      "metadata": {
        "collapsed": false
      },
      "outputs": [],
      "source": [
        "# Solving for M=1 long and short arc transfers\nss_short1, ss_long1 = lambert_transfer(ss_earth, ss_mars, revs=1)\n\nfig, ax = plt.subplots(figsize=(5,10))\nop = StaticOrbitPlotter(ax=ax)\nax.set_title(\"Direct arc transfer ($M=1$)\")\n\norbit_set = {ss_earth: [\"Earth\", \"navy\"],\n            ss_mars: [\"Mars\", \"darkred\"],\n            ss_short1: [\"Short1\", \"black\"],\n            ss_long1: [\"Long1\", \"grey\"]}\n\nfor ss in orbit_set:\n    op.plot(ss, label=orbit_set[ss][0], color=orbit_set[ss][-1])\nplt.show()"
      ]
    },
    {
      "cell_type": "markdown",
      "metadata": {},
      "source": [
        "Solutions for M=2\n~~~~~~~~~~~~~~~~~\n\n\n"
      ]
    },
    {
      "cell_type": "code",
      "execution_count": null,
      "metadata": {
        "collapsed": false
      },
      "outputs": [],
      "source": [
        "# Solving for M=2 long and short transfer arcs\nss_short2, ss_long2 = lambert_transfer(ss_earth, ss_mars, revs=2)\n\nfig, ax = plt.subplots(figsize=(5,10))\nop = StaticOrbitPlotter(ax=ax)\nax.set_title(\"Direct arc transfer ($M=2$)\")\n\norbit_set = {ss_earth: [\"Earth\", \"navy\"],\n            ss_mars: [\"Mars\", \"darkred\"],\n            ss_short2: [\"Short2\", \"black\"],\n            ss_long2: [\"Long2\", \"grey\"]}\n\nfor ss in orbit_set:\n    op.plot(ss, label=orbit_set[ss][0], color=orbit_set[ss][-1])\nplt.show()"
      ]
    },
    {
      "cell_type": "markdown",
      "metadata": {},
      "source": [
        "We will plot now all the arc transfers just to better see the difference\nbetween them.\n\n\n"
      ]
    },
    {
      "cell_type": "code",
      "execution_count": null,
      "metadata": {
        "collapsed": false
      },
      "outputs": [],
      "source": [
        "# Plot all solutions together\nfig, ax = plt.subplots(figsize=(5,10))\nop = StaticOrbitPlotter(ax=ax)\nss_lines = []\n\norbit_set = {ss_earth: [\"Earth\", \"navy\", \"-\"],\n            ss_mars: [\"Mars\", \"brown\", \"-\"],\n            ss_short0: [\"Short0\", \"green\", \"-.\"],\n            ss_short1: [\"Short1\", \"orange\", \"-.\"],\n            ss_short2: [\"Short2\", \"magenta\", \"-.\"],\n            ss_long0: [\"Long0\", \"green\", \"--\"],\n            ss_long1: [\"Long1\", \"orange\", \"--\"],\n            ss_long2: [\"Long2\", \"magenta\", \"--\"],\n            }\n\nfor ss in orbit_set:\n    lines = op.plot(ss, label=orbit_set[ss][0], color=orbit_set[ss][1])\n    lines[0].set_linestyle(orbit_set[ss][-1])\nplt.show()"
      ]
    }
  ],
  "metadata": {
    "kernelspec": {
      "display_name": "Python 3",
      "language": "python",
      "name": "python3"
    },
    "language_info": {
      "codemirror_mode": {
        "name": "ipython",
        "version": 3
      },
      "file_extension": ".py",
      "mimetype": "text/x-python",
      "name": "python",
      "nbconvert_exporter": "python",
      "pygments_lexer": "ipython3",
      "version": "3.7.5"
    }
  },
  "nbformat": 4,
  "nbformat_minor": 0
}