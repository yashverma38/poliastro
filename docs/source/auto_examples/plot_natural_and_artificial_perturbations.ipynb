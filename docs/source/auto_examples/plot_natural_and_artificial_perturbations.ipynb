{
  "cells": [
    {
      "cell_type": "code",
      "execution_count": null,
      "metadata": {
        "collapsed": false
      },
      "outputs": [],
      "source": [
        "%matplotlib inline"
      ]
    },
    {
      "cell_type": "markdown",
      "metadata": {},
      "source": [
        "\nNatural and artificial perturbations\n====================================\n"
      ]
    },
    {
      "cell_type": "code",
      "execution_count": null,
      "metadata": {
        "collapsed": false
      },
      "outputs": [],
      "source": [
        "import numpy as np\nfrom numpy.linalg import norm\n\nfrom astropy import units as u\nfrom astropy.time import Time, TimeDelta\nfrom astropy.coordinates import solar_system_ephemeris\nimport matplotlib.pyplot as plt\nimport plotly\n\nfrom poliastro.twobody.propagation import propagate, cowell\nfrom poliastro.ephem import build_ephem_interpolant\nfrom poliastro.core.elements import rv2coe\n\nfrom poliastro.constants import rho0_earth, H0_earth\nfrom poliastro.core.perturbations import atmospheric_drag, third_body, J2_perturbation\nfrom poliastro.bodies import Earth, Moon\nfrom poliastro.twobody import Orbit\nfrom poliastro.plotting import OrbitPlotter3D"
      ]
    },
    {
      "cell_type": "markdown",
      "metadata": {},
      "source": [
        "Atmospheric drag\n~~~~~~~~~~~~~~~~\n\nThe poliastro package now has several commonly used natural\nperturbations. One of them is atmospheric drag! See how one can monitor\ndecay of the near-Earth orbit over time using our new module\npoliastro.twobody.perturbations!\n\n\n"
      ]
    },
    {
      "cell_type": "code",
      "execution_count": null,
      "metadata": {
        "collapsed": false
      },
      "outputs": [],
      "source": [
        "R = Earth.R.to(u.km).value\nk = Earth.k.to(u.km ** 3 / u.s ** 2).value\n\norbit = Orbit.circular(Earth, 250 * u.km, epoch=Time(0.0, format=\"jd\", scale=\"tdb\"))\n\n# parameters of a body\nC_D = 2.2  # dimentionless (any value would do)\nA = ((np.pi / 4.0) * (u.m ** 2)).to(u.km ** 2).value  # km^2\nm = 100  # kg\nB = C_D * A / m\n\n# parameters of the atmosphere\nrho0 = rho0_earth.to(u.kg / u.km ** 3).value  # kg/km^3\nH0 = H0_earth.to(u.km).value\n\ntofs = TimeDelta(np.linspace(0 * u.h, 100000 * u.s, num=2000))\n\nrr = propagate(\n    orbit,\n    tofs,\n    method=cowell,\n    ad=atmospheric_drag,\n    R=R,\n    C_D=C_D,\n    A=A,\n    m=m,\n    H0=H0,\n    rho0=rho0,\n)\n\nplt.ylabel(\"h(t)\")\nplt.xlabel(\"t, days\")\nplt.plot(tofs.value, rr.norm() - Earth.R)\nplt.show()"
      ]
    },
    {
      "cell_type": "markdown",
      "metadata": {},
      "source": [
        "Evolution of RAAN due to the J2 perturbation\n~~~~~~~~~~~~~~~~~~~~~~~~~~~~~~~~~~~~~~~~~~~~\n\nWe can also see how the J2 perturbation changes RAAN over time!\n\n\n"
      ]
    },
    {
      "cell_type": "code",
      "execution_count": null,
      "metadata": {
        "collapsed": false
      },
      "outputs": [],
      "source": [
        "r0 = np.array([-2384.46, 5729.01, 3050.46]) * u.km\nv0 = np.array([-7.36138, -2.98997, 1.64354]) * u.km / u.s\n\norbit = Orbit.from_vectors(Earth, r0, v0)\n\ntofs = TimeDelta(np.linspace(0, 48.0 * u.h, num=2000))\n\ncoords = propagate(\n    orbit, tofs, method=cowell,\n    ad=J2_perturbation, J2=Earth.J2.value, R=Earth.R.to(u.km).value\n)\n\nrr = coords.xyz.T.to(u.km).value\nvv = coords.differentials[\"s\"].d_xyz.T.to(u.km / u.s).value\n\n# This will be easier to compute when this is solved:\n# https://github.com/poliastro/poliastro/issues/380\nraans = [rv2coe(k, r, v)[3] for r, v in zip(rr, vv)]\n\nplt.ylabel(\"RAAN(t)\")\nplt.xlabel(\"t, h\")\nplt.plot(tofs.value, raans)\nplt.show()"
      ]
    },
    {
      "cell_type": "markdown",
      "metadata": {},
      "source": [
        "3rd body\n~~~~~~~~\n\nApart from time-independent perturbations such as atmospheric drag,\nJ2/J3, we have time-dependend perturbations. Lets's see how Moon changes\nthe orbit of GEO satellite over time!\n\n\n"
      ]
    },
    {
      "cell_type": "code",
      "execution_count": null,
      "metadata": {
        "collapsed": false
      },
      "outputs": [],
      "source": [
        "# database keeping positions of bodies in Solar system over time\nsolar_system_ephemeris.set(\"de432s\")\n\nepoch = Time(\n    2454283.0, format=\"jd\", scale=\"tdb\"\n)  # setting the exact event date is important\n\n# create interpolant of 3rd body coordinates (calling in on every iteration will be just too slow)\nbody_r = build_ephem_interpolant(\n    Moon, 28 * u.day, (epoch.value * u.day, epoch.value * u.day + 60 * u.day), rtol=1e-2\n)\n\ninitial = Orbit.from_classical(\n    Earth,\n    42164.0 * u.km,\n    0.0001 * u.one,\n    1 * u.deg,\n    0.0 * u.deg,\n    0.0 * u.deg,\n    0.0 * u.rad,\n    epoch=epoch,\n)\n\ntofs = TimeDelta(np.linspace(0, 60 * u.day, num=1000))\n\n# multiply Moon gravity by 400 so that effect is visible :)\nrr = propagate(\n    initial,\n    tofs,\n    method=cowell,\n    rtol=1e-6,\n    ad=third_body,\n    k_third=400 * Moon.k.to(u.km ** 3 / u.s ** 2).value,\n    third_body=body_r,\n)\n\nframe = OrbitPlotter3D()\nframe.set_attractor(Earth)\nfig = frame.plot_trajectory(rr, label=\"orbit influenced by Moon\")\nplotly.io.show(fig)"
      ]
    },
    {
      "cell_type": "markdown",
      "metadata": {},
      "source": [
        "Applying thrust\n~~~~~~~~~~~~~~~\n\nApart from natural perturbations, there are artificial thrusts aimed at\nintentional change of orbit parameters. One of such changes is\nsimultaineous change of eccentricity and inclination.\n\n\n"
      ]
    },
    {
      "cell_type": "code",
      "execution_count": null,
      "metadata": {
        "collapsed": false
      },
      "outputs": [],
      "source": [
        "from poliastro.twobody.thrust import change_inc_ecc\n\necc_0, ecc_f = 0.4, 0.0\na = 42164  # km\ninc_0 = 0.0  # rad, baseline\ninc_f = (20.0 * u.deg).to(u.rad).value  # rad\nargp = 0.0  # rad, the method is efficient for 0 and 180\nf = 2.4e-6  # km / s2\n\nk = Earth.k.to(u.km ** 3 / u.s ** 2).value\ns0 = Orbit.from_classical(\n    Earth,\n    a * u.km,\n    ecc_0 * u.one,\n    inc_0 * u.deg,\n    0 * u.deg,\n    argp * u.deg,\n    0 * u.deg,\n    epoch=Time(0, format=\"jd\", scale=\"tdb\"),\n)\n\na_d, _, _, t_f = change_inc_ecc(s0, ecc_f, inc_f, f)\n\ntofs = TimeDelta(np.linspace(0, t_f * u.s, num=1000))\n\nrr2 = propagate(s0, tofs, method=cowell, rtol=1e-6, ad=a_d)\n\nframe = OrbitPlotter3D()\nframe.set_attractor(Earth)\nfig = frame.plot_trajectory(rr2, label=\"orbit with artificial thrust\")\nplotly.io.show(fig)"
      ]
    },
    {
      "cell_type": "markdown",
      "metadata": {},
      "source": [
        "Combining multiple perturbations\n~~~~~~~~~~~~~~~~~~~~~~~~~~~~~~~~\n\nIt might be of interest to determine what effect multiple perturbations\nhave on a single object. In order to add multiple perturbations we can\ncreate a custom function that adds them up:\n\n\n"
      ]
    },
    {
      "cell_type": "code",
      "execution_count": null,
      "metadata": {
        "collapsed": false
      },
      "outputs": [],
      "source": [
        "from poliastro.core.util import jit\n\n# Add @jit for speed!\n@jit\ndef a_d(t0, state, k, J2, R, C_D, A, m, H0, rho0):\n    return J2_perturbation(t0, state, k, J2, R) + atmospheric_drag(\n        t0, state, k, R, C_D, A, m, H0, rho0\n    )\n\n# propagation times of flight and orbit\ntofs = TimeDelta(np.linspace(0, 10 * u.day, num=10 * 500))\norbit = Orbit.circular(Earth, 250 * u.km)  # recall orbit from drag example\n\n# propagate with J2 and atmospheric drag\nrr3 = propagate(\n    orbit,\n    tofs,\n    method=cowell,\n    ad=a_d,\n    R=R,\n    C_D=C_D,\n    A=A,\n    m=m,\n    H0=H0,\n    rho0=rho0,\n    J2=Earth.J2.value,\n)\n\n# propagate with only atmospheric drag\nrr4 = propagate(\n    orbit,\n    tofs,\n    method=cowell,\n    ad=atmospheric_drag,\n    R=R,\n    C_D=C_D,\n    A=A,\n    m=m,\n    H0=H0,\n    rho0=rho0,\n)\n\nfig, (axes1, axes2) = plt.subplots(nrows=2, sharex=True, figsize=(15, 6))\n\naxes1.plot(tofs.value, rr3.norm() - Earth.R)\naxes1.set_ylabel(\"h(t)\")\naxes1.set_xlabel(\"t, days\")\naxes1.set_ylim([225, 251])\n\naxes2.plot(tofs.value, rr4.norm() - Earth.R)\naxes2.set_ylabel(\"h(t)\")\naxes2.set_xlabel(\"t, days\")\naxes2.set_ylim([225, 251])\nplt.show()"
      ]
    },
    {
      "cell_type": "markdown",
      "metadata": {},
      "source": [
        "The first plot shows the altitude of the orbit changing due to both\natmospheric drag and the J2 effect, the second plot shows only the\neffect of atmospheric drag.\n\n\n"
      ]
    }
  ],
  "metadata": {
    "kernelspec": {
      "display_name": "Python 3",
      "language": "python",
      "name": "python3"
    },
    "language_info": {
      "codemirror_mode": {
        "name": "ipython",
        "version": 3
      },
      "file_extension": ".py",
      "mimetype": "text/x-python",
      "name": "python",
      "nbconvert_exporter": "python",
      "pygments_lexer": "ipython3",
      "version": "3.7.5"
    }
  },
  "nbformat": 4,
  "nbformat_minor": 0
}