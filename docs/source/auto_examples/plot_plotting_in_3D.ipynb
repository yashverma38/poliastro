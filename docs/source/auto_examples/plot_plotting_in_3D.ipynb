{
  "cells": [
    {
      "cell_type": "code",
      "execution_count": null,
      "metadata": {
        "collapsed": false
      },
      "outputs": [],
      "source": [
        "%matplotlib inline"
      ]
    },
    {
      "cell_type": "markdown",
      "metadata": {},
      "source": [
        "\nPlotting in 3D\n==============\n"
      ]
    },
    {
      "cell_type": "code",
      "execution_count": null,
      "metadata": {
        "collapsed": false
      },
      "outputs": [],
      "source": [
        "import numpy as np\n\nfrom poliastro.examples import *\nfrom poliastro.plotting import *\n\nimport plotly"
      ]
    },
    {
      "cell_type": "markdown",
      "metadata": {},
      "source": [
        "We start by plotting the Churi's orbit without the need of creating\nan instance of OrbitPlotter3D()\n\n\n"
      ]
    },
    {
      "cell_type": "code",
      "execution_count": null,
      "metadata": {
        "collapsed": false
      },
      "outputs": [],
      "source": [
        "fig = churi.plot(interactive=True, use_3d=True)\nplotly.io.show(fig)"
      ]
    },
    {
      "cell_type": "markdown",
      "metadata": {},
      "source": [
        "However, if we want to add more orbits to the frame, then we need\nan instance of the three-dimensional plotter utility\n\n\n"
      ]
    },
    {
      "cell_type": "code",
      "execution_count": null,
      "metadata": {
        "collapsed": false
      },
      "outputs": [],
      "source": [
        "frame = OrbitPlotter3D()\nframe.plot(churi)\nfig = frame.plot(Orbit.from_body_ephem(Earth))\nplotly.io.show(fig)"
      ]
    },
    {
      "cell_type": "markdown",
      "metadata": {},
      "source": [
        "Let us now plot for a Molniya orbit!\n\n\n"
      ]
    },
    {
      "cell_type": "code",
      "execution_count": null,
      "metadata": {
        "collapsed": false
      },
      "outputs": [],
      "source": [
        "frame = OrbitPlotter3D()\nframe.plot(molniya)\nplotly.io.show(fig)"
      ]
    },
    {
      "cell_type": "markdown",
      "metadata": {},
      "source": [
        "What about adding the ISS to better compare both orbits?\n\n\n"
      ]
    },
    {
      "cell_type": "code",
      "execution_count": null,
      "metadata": {
        "collapsed": false
      },
      "outputs": [],
      "source": [
        "frame = OrbitPlotter3D()\n\nframe.plot(molniya)\nfig = frame.plot(iss)\nplotly.io.show(fig)"
      ]
    },
    {
      "cell_type": "markdown",
      "metadata": {},
      "source": [
        "We will now plot Eros' and Earth's orbit \n\n\n"
      ]
    },
    {
      "cell_type": "code",
      "execution_count": null,
      "metadata": {
        "collapsed": false
      },
      "outputs": [],
      "source": [
        "eros = Orbit.from_sbdb(\"eros\")\n\nframe = OrbitPlotter3D()\nframe.plot(Orbit.from_body_ephem(Earth), label=Earth)\nfig = frame.plot(eros, label=\"eros\")\nplotly.io.show(fig)"
      ]
    },
    {
      "cell_type": "markdown",
      "metadata": {},
      "source": [
        "We can also solve for a range of positions and velocities for the\nEarth at an specific period of time. When using the astropy\nget_body_barycentric_posvel() we need to set the attractor of the frame\nfigure. \n\n\n"
      ]
    },
    {
      "cell_type": "code",
      "execution_count": null,
      "metadata": {
        "collapsed": false
      },
      "outputs": [],
      "source": [
        "from astropy.coordinates import get_body_barycentric_posvel\nfrom poliastro.util import time_range\n\ndate_launch = time.Time(\"2011-11-26 15:02\", scale=\"utc\")\ndate_arrival = time.Time(\"2012-08-06 05:17\", scale=\"utc\")\n\nrr_earth, _ = get_body_barycentric_posvel(\n    \"earth\", time_range(date_launch, end=date_arrival, periods=50)\n)\n\nframe = OrbitPlotter3D()\nframe.set_attractor(Sun)\nframe.plot(Orbit.from_body_ephem(Earth), label=Earth)\nfig = frame.plot_trajectory(rr_earth, label=Earth)\nplotly.io.show(fig)"
      ]
    },
    {
      "cell_type": "markdown",
      "metadata": {},
      "source": [
        "However, if we first plot Eros, since an attractor has been set\ndue to its Orbit class type, it is not necessary to specify the\nattractor of the plot anymore.\n\n"
      ]
    },
    {
      "cell_type": "code",
      "execution_count": null,
      "metadata": {
        "collapsed": false
      },
      "outputs": [],
      "source": [
        "frame = OrbitPlotter3D()\nframe.plot(eros, label=\"eros\")\nfig = frame.plot_trajectory(rr_earth, label=Earth)\nplotly.io.show(fig)"
      ]
    }
  ],
  "metadata": {
    "kernelspec": {
      "display_name": "Python 3",
      "language": "python",
      "name": "python3"
    },
    "language_info": {
      "codemirror_mode": {
        "name": "ipython",
        "version": 3
      },
      "file_extension": ".py",
      "mimetype": "text/x-python",
      "name": "python",
      "nbconvert_exporter": "python",
      "pygments_lexer": "ipython3",
      "version": "3.7.5"
    }
  },
  "nbformat": 4,
  "nbformat_minor": 0
}