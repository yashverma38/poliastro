{
  "cells": [
    {
      "cell_type": "code",
      "execution_count": null,
      "metadata": {
        "collapsed": false
      },
      "outputs": [],
      "source": [
        "%matplotlib inline"
      ]
    },
    {
      "cell_type": "markdown",
      "metadata": {},
      "source": [
        "\nPorkchops with poliastro\n------------------------\n\nPorkchops are also known as mission design curves since they show\ndifferent parameters used to design the ballistic trajectories for the\ntargetting problem such us:\n\n-  Time of flight (TFL)\n-  Launch energy (C3L)\n-  Arrival velocity (VHP)\n\nFor the moment, poliastro is only capable of creating these mission\nplots between ``poliastro.bodies`` objects. However, it is intended for\nfuture versions to make it able for plotting porkchops between NEOs\nalso.\n"
      ]
    },
    {
      "cell_type": "markdown",
      "metadata": {},
      "source": [
        "Basic modules\n~~~~~~~~~~~~~\n\nFor creating a porkchop plot with poliastro, we need to import the\n``porkchop`` function from the ``poliastro.plotting.porkchop`` module.\nAlso, two ``poliastro.bodies`` are necessary for computing the\ntargetting problem associated. Finally by making use of ``time_range``,\na very useful function available at ``poliastro.utils`` it is possible\nto define a span of launching and arrival dates for the problem.\n\n\n"
      ]
    },
    {
      "cell_type": "code",
      "execution_count": null,
      "metadata": {
        "collapsed": false
      },
      "outputs": [],
      "source": [
        "import astropy.units as u\nimport matplotlib.pyplot as plt\nfrom poliastro.bodies import Earth, Mars\nfrom poliastro.plotting.porkchop import porkchop\nfrom poliastro.util import time_range\n\nlaunch_span = time_range(\"2005-04-30\", end=\"2005-10-07\")\narrival_span = time_range(\"2005-11-16\", end=\"2006-12-21\")"
      ]
    },
    {
      "cell_type": "markdown",
      "metadata": {},
      "source": [
        "Plot that porkchop!\n~~~~~~~~~~~~~~~~~~~\n\nAll that we must do is pass the two bodies, the two time spans and some\nextra plotting parameters realted to different information along the\nfigure such us:\n\n-  If we want poliastro to plot time of flight lines: ``tfl=True/False``\n-  If we want poliastro to plot arrival velocity: ``vhp=True/False``\n-  The maximum value for C3 to be ploted:\n   ``max_c3=45 * u.km**2 / u.s**2`` (by default)\n\n\n"
      ]
    },
    {
      "cell_type": "code",
      "execution_count": null,
      "metadata": {
        "collapsed": false
      },
      "outputs": [],
      "source": [
        "# We create the porkchop\ndv_dpt, dv_arr, c3dpt, c3arr, tof = porkchop(Earth, Mars, launch_span, arrival_span)\nplt.show()"
      ]
    },
    {
      "cell_type": "markdown",
      "metadata": {},
      "source": [
        "NASA's same porkchop\n~~~~~~~~~~~~~~~~~~~~\n\nWe can compare previous porkchop with the ones made by NASA for those\nyears.\n\n.. figure:: images/porkchop_mars.png\n   :alt: Porkchop to Mars\n\n   Porkchop to Mars\n\n\n"
      ]
    }
  ],
  "metadata": {
    "kernelspec": {
      "display_name": "Python 3",
      "language": "python",
      "name": "python3"
    },
    "language_info": {
      "codemirror_mode": {
        "name": "ipython",
        "version": 3
      },
      "file_extension": ".py",
      "mimetype": "text/x-python",
      "name": "python",
      "nbconvert_exporter": "python",
      "pygments_lexer": "ipython3",
      "version": "3.7.5"
    }
  },
  "nbformat": 4,
  "nbformat_minor": 0
}