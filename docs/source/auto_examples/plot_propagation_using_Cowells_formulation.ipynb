{
  "cells": [
    {
      "cell_type": "code",
      "execution_count": null,
      "metadata": {
        "collapsed": false
      },
      "outputs": [],
      "source": [
        "%matplotlib inline"
      ]
    },
    {
      "cell_type": "markdown",
      "metadata": {},
      "source": [
        "\nCowell's formulation\n====================\n\nFor cases where we only study the gravitational forces, solving the\nKepler's equation is enough to propagate the orbit forward in time.\nHowever, when we want to take perturbations that deviate from Keplerian\nforces into account, we need a more complex method to solve our initial\nvalue problem: one of them is **Cowell's formulation**.\n\nIn this formulation we write the two body differential equation\nseparating the Keplerian and the perturbation accelerations:\n\n\\begin{align}\\ddot{\\mathbb{r}} = -\frac{\\mu}{|\\mathbb{r}|^3} \\mathbb{r} + \\mathbb{a}_d\\end{align}\n"
      ]
    },
    {
      "cell_type": "markdown",
      "metadata": {},
      "source": [
        ".. raw:: html\n\n   <div class=\"alert alert-info\">\n\nFor an in-depth exploration of this topic, still to be integrated in\npoliastro, check out this Master thesis\n\n.. raw:: html\n\n   </div>\n\n\n"
      ]
    },
    {
      "cell_type": "markdown",
      "metadata": {},
      "source": [
        ".. raw:: html\n\n   <div class=\"alert alert-info\">\n\nAn earlier version of this notebook allowed for more flexibility and\ninteractivity, but was considerably more complex. Future versions of\npoliastro and plotly might bring back part of that functionality,\ndepending on user feedback. You can still download the older version\nhere.\n\n.. raw:: html\n\n   </div>\n\n\n"
      ]
    },
    {
      "cell_type": "markdown",
      "metadata": {},
      "source": [
        "First example\n-------------\n\nLet's setup a very simple example with constant acceleration to\nvisualize the effects on the orbit.\n\n\n"
      ]
    },
    {
      "cell_type": "code",
      "execution_count": null,
      "metadata": {
        "collapsed": false
      },
      "outputs": [],
      "source": [
        "import numpy as np\nfrom astropy import units as u\nfrom astropy import time\nimport matplotlib.pyplot as plt\nimport plotly\n\nfrom poliastro.bodies import Earth\nfrom poliastro.twobody import Orbit\nfrom poliastro.twobody.propagation import propagate\nfrom poliastro.examples import iss\n\nfrom poliastro.twobody.propagation import cowell\nfrom poliastro.plotting import OrbitPlotter3D\nfrom poliastro.util import norm"
      ]
    },
    {
      "cell_type": "markdown",
      "metadata": {},
      "source": [
        "To provide an acceleration depending on an extra parameter, we can use\n**closures** like this one:\n\n\n"
      ]
    },
    {
      "cell_type": "code",
      "execution_count": null,
      "metadata": {
        "collapsed": false
      },
      "outputs": [],
      "source": [
        "accel = 2e-5\n\ndef constant_accel_factory(accel):\n    def constant_accel(t0, u, k):\n        v = u[3:]\n        norm_v = (v[0]**2 + v[1]**2 + v[2]**2)**.5\n        return accel * v / norm_v\n\n    return constant_accel\n\ntimes = np.linspace(0, 10 * iss.period, 500)\nprint(times)\n\npositions = propagate(\n    iss,\n    time.TimeDelta(times),\n    method=cowell,\n    rtol=1e-11,\n    ad=constant_accel_factory(accel),\n)"
      ]
    },
    {
      "cell_type": "markdown",
      "metadata": {},
      "source": [
        "And we plot the results:\n\n\n"
      ]
    },
    {
      "cell_type": "code",
      "execution_count": null,
      "metadata": {
        "collapsed": false
      },
      "outputs": [],
      "source": [
        "frame = OrbitPlotter3D()\nframe.set_attractor(Earth)\nfig = frame.plot_trajectory(positions, label=\"ISS\")\nplotly.io.show(fig)"
      ]
    },
    {
      "cell_type": "markdown",
      "metadata": {},
      "source": [
        "Error checking\n--------------\n\n\n"
      ]
    },
    {
      "cell_type": "code",
      "execution_count": null,
      "metadata": {
        "collapsed": false
      },
      "outputs": [],
      "source": [
        "def state_to_vector(ss):\n    r, v = ss.rv()\n    x, y, z = r.to(u.km).value\n    vx, vy, vz = v.to(u.km / u.s).value\n    return np.array([x, y, z, vx, vy, vz])\n\nk = Earth.k.to(u.km ** 3 / u.s ** 2).value\n\nrtol = 1e-13\nfull_periods = 2\n\nu0 = state_to_vector(iss)\ntf = ((2 * full_periods + 1) * iss.period / 2)\n\nu0, tf\n\niss_f_kep = iss.propagate(tf, rtol=1e-18)\n\nr, v = cowell(iss.attractor.k, iss.r, iss.v, [tf] * u.s, rtol=rtol)\n\niss_f_num = Orbit.from_vectors(Earth, r[0], v[0], iss.epoch + tf)\n\niss_f_num.r, iss_f_kep.r\n\nassert np.allclose(iss_f_num.r, iss_f_kep.r, rtol=rtol, atol=1e-08 * u.km)\nassert np.allclose(iss_f_num.v, iss_f_kep.v, rtol=rtol, atol=1e-08 * u.km / u.s)\n\nassert np.allclose(iss_f_num.a, iss_f_kep.a, rtol=rtol, atol=1e-08 * u.km)\nassert np.allclose(iss_f_num.ecc, iss_f_kep.ecc, rtol=rtol)\nassert np.allclose(iss_f_num.inc, iss_f_kep.inc, rtol=rtol, atol=1e-08 * u.rad)\nassert np.allclose(iss_f_num.raan, iss_f_kep.raan, rtol=rtol, atol=1e-08 * u.rad)\nassert np.allclose(iss_f_num.argp, iss_f_kep.argp, rtol=rtol, atol=1e-08 * u.rad)\nassert np.allclose(iss_f_num.nu, iss_f_kep.nu, rtol=rtol, atol=1e-08 * u.rad)"
      ]
    },
    {
      "cell_type": "markdown",
      "metadata": {},
      "source": [
        "Numerical validation\n--------------------\n\nAccording to [Edelbaum, 1961], a coplanar, semimajor axis change with\ntangent thrust is defined by:\n\n\\begin{align}\\frac{\\operatorname{d}\\!a}{a_0} = 2 \\frac{F}{m V_0}\\operatorname{d}\\!t, \\qquad \\frac{\\Delta{V}}{V_0} = \\frac{1}{2} \\frac{\\Delta{a}}{a_0}\\end{align}\n\nSo let's create a new circular orbit and perform the necessary checks,\nassuming constant mass and thrust (i.e. constant acceleration):\n\n\n"
      ]
    },
    {
      "cell_type": "code",
      "execution_count": null,
      "metadata": {
        "collapsed": false
      },
      "outputs": [],
      "source": [
        "ss = Orbit.circular(Earth, 500 * u.km)\ntof = 20 * ss.period\n\nad = constant_accel_factory(1e-7)\n\nr, v = cowell(ss.attractor.k, ss.r, ss.v, [tof] * u.s, ad=ad)\n\nss_final = Orbit.from_vectors(Earth, r[0], v[0], ss.epoch + tof)\n\nda_a0 = (ss_final.a - ss.a) / ss.a\nda_a0\n\ndv_v0 = abs(norm(ss_final.v) - norm(ss.v)) / norm(ss.v)\n2 * dv_v0\n\nnp.allclose(da_a0, 2 * dv_v0, rtol=1e-2)"
      ]
    },
    {
      "cell_type": "markdown",
      "metadata": {},
      "source": [
        "This means **we successfully validated the model against an extremely\nsimple orbit transfer with approximate analytical solution**. Notice\nthat the final eccentricity, as originally noticed by Edelbaum, is\nnonzero:\n\n\n"
      ]
    },
    {
      "cell_type": "code",
      "execution_count": null,
      "metadata": {
        "collapsed": false
      },
      "outputs": [],
      "source": [
        "print(ss_final.ecc)"
      ]
    },
    {
      "cell_type": "markdown",
      "metadata": {},
      "source": [
        "References\n----------\n\n-  [Edelbaum, 1961] \"Propulsion requirements for controllable\n   satellites\"\n\n\n"
      ]
    }
  ],
  "metadata": {
    "kernelspec": {
      "display_name": "Python 3",
      "language": "python",
      "name": "python3"
    },
    "language_info": {
      "codemirror_mode": {
        "name": "ipython",
        "version": 3
      },
      "file_extension": ".py",
      "mimetype": "text/x-python",
      "name": "python",
      "nbconvert_exporter": "python",
      "pygments_lexer": "ipython3",
      "version": "3.7.5"
    }
  },
  "nbformat": 4,
  "nbformat_minor": 0
}