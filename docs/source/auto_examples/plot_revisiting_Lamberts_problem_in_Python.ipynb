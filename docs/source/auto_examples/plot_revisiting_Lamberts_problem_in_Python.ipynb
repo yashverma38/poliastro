{
  "cells": [
    {
      "cell_type": "code",
      "execution_count": null,
      "metadata": {
        "collapsed": false
      },
      "outputs": [],
      "source": [
        "%matplotlib inline"
      ]
    },
    {
      "cell_type": "markdown",
      "metadata": {},
      "source": [
        "\nRevisiting Lambert's problem in Python\n======================================\n\nThe Izzo algorithm to solve the Lambert problem is available in\npoliastro and was implemented from `this\npaper <https://arxiv.org/abs/1403.2705>`__.\n"
      ]
    },
    {
      "cell_type": "code",
      "execution_count": null,
      "metadata": {
        "collapsed": false
      },
      "outputs": [],
      "source": [
        "import numpy as np\nimport matplotlib.pyplot as plt\nfrom cycler import cycler\n\nfrom poliastro.core import iod\nfrom poliastro.iod import izzo\n\nplt.rc('text', usetex=True)"
      ]
    },
    {
      "cell_type": "markdown",
      "metadata": {},
      "source": [
        "Part 1: Reproducing the original figure\n---------------------------------------\n\n\n"
      ]
    },
    {
      "cell_type": "code",
      "execution_count": null,
      "metadata": {
        "collapsed": false
      },
      "outputs": [],
      "source": [
        "x = np.linspace(-1, 2, num=1000)\nM_list = 0, 1, 2, 3\nll_list = 1, 0.9, 0.7, 0, -0.7, -0.9, -1\n\nfig, ax = plt.subplots(figsize=(10, 8))\nax.set_prop_cycle(cycler('linestyle', ['-', '--']) *\n                  (cycler('color', ['black']) * len(ll_list)))\nfor M in M_list:\n    for ll in ll_list:\n        T_x0 = np.zeros_like(x)\n        for ii in range(len(x)):\n            y = iod._compute_y(x[ii], ll)\n            T_x0[ii] = iod._tof_equation_y(x[ii], y, 0.0, ll, M)\n        if M == 0 and ll == 1:\n            T_x0[x > 0] = np.nan\n        elif M > 0:\n            # Mask meaningless solutions\n            T_x0[x > 1] = np.nan\n        l, = ax.plot(x, T_x0)\n\nax.set_ylim(0, 10)\n\nax.set_xticks((-1, 0, 1, 2))\nax.set_yticks((0, np.pi, 2 * np.pi, 3 * np.pi))\nax.set_yticklabels(('$0$', '$\\pi$', '$2 \\pi$', '$3 \\pi$'))\n\nax.vlines(1, 0, 10)\nax.text(0.65, 4.0, \"elliptic\")\nax.text(1.16, 4.0, \"hyperbolic\")\n\nax.text(0.05, 1.5, \"$M = 0$\", bbox=dict(facecolor='white'))\nax.text(0.05, 5, \"$M = 1$\", bbox=dict(facecolor='white'))\nax.text(0.05, 8, \"$M = 2$\", bbox=dict(facecolor='white'))\n\nax.annotate(\"$\\lambda = 1$\", xy=(-0.3, 1), xytext=(-0.75, 0.25),\n            arrowprops=dict(arrowstyle=\"simple\", facecolor=\"black\"))\nax.annotate(\"$\\lambda = -1$\", xy=(0.3, 2.5), xytext=(0.65, 2.75),\n            arrowprops=dict(arrowstyle=\"simple\", facecolor=\"black\"))\n\nax.grid()\nax.set_xlabel(\"$x$\")\nax.set_ylabel(\"$T$\");\nplt.show()"
      ]
    },
    {
      "cell_type": "markdown",
      "metadata": {},
      "source": [
        "Part 2: Locating $T_{min}$\n--------------------------------\n\n\n"
      ]
    },
    {
      "cell_type": "code",
      "execution_count": null,
      "metadata": {
        "collapsed": false
      },
      "outputs": [],
      "source": [
        "for M in M_list:\n    for ll in ll_list:\n        x_T_min, T_min = iod._compute_T_min(ll, M, 10, 1e-8)\n        ax.plot(x_T_min, T_min, \"kx\", mew=2)\nplt.show()"
      ]
    },
    {
      "cell_type": "markdown",
      "metadata": {},
      "source": [
        "Part 3: Try out solution\n------------------------\n\n\n"
      ]
    },
    {
      "cell_type": "code",
      "execution_count": null,
      "metadata": {
        "collapsed": false
      },
      "outputs": [],
      "source": [
        "T_ref = 1\nll_ref = 0\n\n(x_ref, _), = iod._find_xy(ll_ref, T_ref, 0, 10, 1e-8)\nx_ref\n\nax.plot(x_ref, T_ref, \"o\", mew=2, mec=\"red\", mfc=\"none\")\nplt.show()"
      ]
    },
    {
      "cell_type": "markdown",
      "metadata": {},
      "source": [
        "Part 4: Run some examples\n-------------------------\n\n\n"
      ]
    },
    {
      "cell_type": "code",
      "execution_count": null,
      "metadata": {
        "collapsed": false
      },
      "outputs": [],
      "source": [
        "from astropy import units as u\n\nfrom poliastro.bodies import Earth"
      ]
    },
    {
      "cell_type": "markdown",
      "metadata": {},
      "source": [
        "Single revolution\n~~~~~~~~~~~~~~~~~\n\n\n"
      ]
    },
    {
      "cell_type": "code",
      "execution_count": null,
      "metadata": {
        "collapsed": false
      },
      "outputs": [],
      "source": [
        "k = Earth.k\nr0 = [15945.34, 0.0, 0.0] * u.km\nr = [12214.83399, 10249.46731, 0.0] * u.km\ntof = 76.0 * u.min\n\nexpected_va = [2.058925, 2.915956, 0.0] * u.km / u.s\nexpected_vb = [-3.451569, 0.910301, 0.0] * u.km / u.s\n\n(v0, v), = izzo.lambert(k, r0, r, tof)\nprint(\"v:\", v)\n\nk = Earth.k\nr0 = [5000.0, 10000.0, 2100.0] * u.km\nr = [-14600.0, 2500.0, 7000.0] * u.km\ntof = 1.0 * u.h\n\nexpected_va = [-5.9925, 1.9254, 3.2456] * u.km / u.s\nexpected_vb = [-3.3125, -4.1966, -0.38529] * u.km / u.s\n\n(v0, v), = izzo.lambert(k, r0, r, tof)\nprint(\"v:\", v)"
      ]
    },
    {
      "cell_type": "markdown",
      "metadata": {},
      "source": [
        "Multiple revolutions\n~~~~~~~~~~~~~~~~~~~~\n\n\n"
      ]
    },
    {
      "cell_type": "code",
      "execution_count": null,
      "metadata": {
        "collapsed": false
      },
      "outputs": [],
      "source": [
        "k = Earth.k\nr0 = [22592.145603, -1599.915239, -19783.950506] * u.km\nr = [1922.067697, 4054.157051, -8925.727465] * u.km\ntof = 10 * u.h\n\nexpected_va = [2.000652697, 0.387688615, -2.666947760] * u.km / u.s\nexpected_vb = [-3.79246619, -1.77707641, 6.856814395] * u.km / u.s\n\nexpected_va_l = [0.50335770, 0.61869408, -1.57176904] * u.km / u.s\nexpected_vb_l = [-4.18334626, -1.13262727, 6.13307091] * u.km / u.s\n\nexpected_va_r = [-2.45759553, 1.16945801, 0.43161258] * u.km / u.s\nexpected_vb_r = [-5.53841370, 0.01822220, 5.49641054] * u.km / u.s\n\n(v0, v), = izzo.lambert(k, r0, r, tof, M=0)\nprint(\"v:\", v)\n\n(_, v_l), (_, v_r) = izzo.lambert(k, r0, r, tof, M=1)\n\nprint(\"v_l:\", v_l)\nprint(\"v_r\", v_r)"
      ]
    }
  ],
  "metadata": {
    "kernelspec": {
      "display_name": "Python 3",
      "language": "python",
      "name": "python3"
    },
    "language_info": {
      "codemirror_mode": {
        "name": "ipython",
        "version": 3
      },
      "file_extension": ".py",
      "mimetype": "text/x-python",
      "name": "python",
      "nbconvert_exporter": "python",
      "pygments_lexer": "ipython3",
      "version": "3.7.5"
    }
  },
  "nbformat": 4,
  "nbformat_minor": 0
}