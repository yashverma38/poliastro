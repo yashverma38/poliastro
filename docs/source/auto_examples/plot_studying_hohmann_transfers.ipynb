{
  "cells": [
    {
      "cell_type": "code",
      "execution_count": null,
      "metadata": {
        "collapsed": false
      },
      "outputs": [],
      "source": [
        "%matplotlib inline"
      ]
    },
    {
      "cell_type": "markdown",
      "metadata": {},
      "source": [
        "\nStudying Hohmann transfers\n==========================\n"
      ]
    },
    {
      "cell_type": "code",
      "execution_count": null,
      "metadata": {
        "collapsed": false
      },
      "outputs": [],
      "source": [
        "import numpy as np\nimport matplotlib.pyplot as plt\n\nfrom astropy import units as u\nimport matplotlib.pyplot as plt\n\nfrom poliastro.util import norm\n\nfrom poliastro.bodies import Earth\nfrom poliastro.twobody import Orbit\nfrom poliastro.maneuver import Maneuver\n\nprint(Earth.k)\n\nss_i = Orbit.circular(Earth, alt=800 * u.km)\nprint(ss_i)\n\nr_i = ss_i.a.to(u.km)\nprint(r_i)\n\nv_i_vec = ss_i.v.to(u.km / u.s)\nv_i = norm(v_i_vec)\nprint(v_i)\n\nN = 1000\ndv_a_vector = np.zeros(N) * u.km / u.s\ndv_b_vector = dv_a_vector.copy()\nr_f_vector = r_i * np.linspace(1, 100, num=N)\nfor ii, r_f in enumerate(r_f_vector):\n    man = Maneuver.hohmann(ss_i, r_f)\n    (_, dv_a), (_, dv_b) = man.impulses\n    dv_a_vector[ii] = norm(dv_a)\n    dv_b_vector[ii] = norm(dv_b)\n\nfig, ax = plt.subplots(figsize=(7, 7))\n\nax.plot((r_f_vector / r_i).value, (dv_a_vector / v_i).value, label=\"First impulse\")\nax.plot((r_f_vector / r_i).value, (dv_b_vector / v_i).value, label=\"Second impulse\")\nax.plot((r_f_vector / r_i).value, ((dv_a_vector + dv_b_vector) / v_i).value, label=\"Total cost\")\n\nax.plot((r_f_vector / r_i).value, np.full(N, np.sqrt(2) - 1), 'k--')\nax.plot((r_f_vector / r_i).value, (1 / np.sqrt(r_f_vector / r_i)).value, 'k--')\n\nax.set_ylim(0, 0.7)\nax.set_xlabel(\"$R$\")\nax.set_ylabel(\"$\\Delta v_a / v_i$\")\nplt.legend()\nplt.show()"
      ]
    }
  ],
  "metadata": {
    "kernelspec": {
      "display_name": "Python 3",
      "language": "python",
      "name": "python3"
    },
    "language_info": {
      "codemirror_mode": {
        "name": "ipython",
        "version": 3
      },
      "file_extension": ".py",
      "mimetype": "text/x-python",
      "name": "python",
      "nbconvert_exporter": "python",
      "pygments_lexer": "ipython3",
      "version": "3.7.5"
    }
  },
  "nbformat": 4,
  "nbformat_minor": 0
}