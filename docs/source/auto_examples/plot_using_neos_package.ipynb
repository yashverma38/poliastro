{
  "cells": [
    {
      "cell_type": "code",
      "execution_count": null,
      "metadata": {
        "collapsed": false
      },
      "outputs": [],
      "source": [
        "%matplotlib inline"
      ]
    },
    {
      "cell_type": "markdown",
      "metadata": {},
      "source": [
        "\nAnalyzing NEOs\n==============\n"
      ]
    },
    {
      "cell_type": "markdown",
      "metadata": {},
      "source": [
        "NEO stands for near-Earth object. The Center for NEO Studies\n(`CNEOS <http://cneos.jpl.nasa.gov/>`__) defines NEOs as comets and\nasteroids that have been nudged by the gravitational attraction of\nnearby planets into orbits that allow them to enter the Earth\u2019s\nneighborhood.\n\nAnd what does \"near\" exactly mean? In terms of orbital elements,\nasteroids and comets can be considered NEOs if their perihelion (orbit\npoint which is nearest to the Sun) is less than 1.3 au = 1.945 \\* 108 km\nfrom the Sun.\n\n\n"
      ]
    },
    {
      "cell_type": "code",
      "execution_count": null,
      "metadata": {
        "collapsed": false
      },
      "outputs": [],
      "source": [
        "from astropy import time\nimport matplotlib.pyplot as plt\n\nfrom poliastro.twobody.orbit import Orbit\nfrom poliastro.bodies import Earth\nfrom poliastro.plotting import StaticOrbitPlotter"
      ]
    },
    {
      "cell_type": "markdown",
      "metadata": {},
      "source": [
        "Small Body Database (SBDB)\n--------------------------\n\n\n"
      ]
    },
    {
      "cell_type": "code",
      "execution_count": null,
      "metadata": {
        "collapsed": false
      },
      "outputs": [],
      "source": [
        "eros = Orbit.from_sbdb(\"Eros\")\neros.plot(label=\"Eros\");\nplt.show()"
      ]
    },
    {
      "cell_type": "markdown",
      "metadata": {},
      "source": [
        "You can also search by IAU number or SPK-ID (there is a faster\n``neows.orbit_from_spk_id()`` function in that case, although):\n\n\n"
      ]
    },
    {
      "cell_type": "code",
      "execution_count": null,
      "metadata": {
        "collapsed": false
      },
      "outputs": [],
      "source": [
        "ganymed = Orbit.from_sbdb(\"1036\")  # Ganymed IAU number\namor = Orbit.from_sbdb(\"2001221\")  # Amor SPK-ID\neros = Orbit.from_sbdb(\"2000433\")  # Eros SPK-ID\n\n# Following comment sets this image as thumbail for gallery examples\n# sphinx_gallery_thumbnail_number = 2\nframe = StaticOrbitPlotter()\nframe.plot(ganymed, label=\"Ganymed\")\nframe.plot(amor, label=\"Amor\")\nframe.plot(eros, label=\"Eros\");\nplt.show()"
      ]
    },
    {
      "cell_type": "markdown",
      "metadata": {},
      "source": [
        "You can use the wildcards from that browser: ``*`` and ``?``.\n\n\n"
      ]
    },
    {
      "cell_type": "markdown",
      "metadata": {},
      "source": [
        ".. raw:: html\n\n   <div class=\"alert alert-info\">\n\nKeep it in mind that ``from_sbdb()`` can only return one Orbit, so if\nseveral objects are found with that name, it will raise an error with\nthe different bodies.\n\n.. raw:: html\n\n   </div>\n\n\n"
      ]
    },
    {
      "cell_type": "code",
      "execution_count": null,
      "metadata": {
        "collapsed": false
      },
      "outputs": [],
      "source": [
        "try:\n    Orbit.from_sbdb(\"*alley\")\nexcept ValueError:\n    print(\"There exist several objects with that name\")"
      ]
    },
    {
      "cell_type": "markdown",
      "metadata": {},
      "source": [
        ".. raw:: html\n\n   <div class=\"alert alert-info\">\n\nNote that epoch is provided by the service itself, so if you need orbit\non another epoch, you have to propagate it:\n\n.. raw:: html\n\n   </div>\n\n\n"
      ]
    },
    {
      "cell_type": "code",
      "execution_count": null,
      "metadata": {
        "collapsed": false
      },
      "outputs": [],
      "source": [
        "print(\"Eros epoch: \", eros.epoch.iso)\n\nepoch = time.Time(2458000.0, scale=\"tdb\", format=\"jd\")\neros_november = eros.propagate(epoch)\nprint(\"Eros November epoch: \", eros_november.epoch.iso)"
      ]
    },
    {
      "cell_type": "markdown",
      "metadata": {},
      "source": [
        "DASTCOM5 module\n---------------\n\nThis module can also be used to get NEOs orbit, in the same way that\n``neows``, but it have some advantages (and some disadvantages).\n\nIt relies on DASTCOM5 database, a NASA/JPL maintained asteroid and comet\ndatabase. This database has to be downloaded at least once in order to\nuse this module. According to its README, it is updated typically a\ncouple times per day, but potentially as frequently as once per hour, so\nyou can download it whenever you want the more recently discovered\nbodies. This also means that, after downloading the file, you can use\nthe database offline.\n\nThe file is a ~230 MB zip that you can manually\n`download <ftp://ssd.jpl.nasa.gov/pub/ssd/dastcom5.zip>`__ and unzip in\n``~/.poliastro`` or, more easily, you can use\n\n.. code:: python\n\n    dastcom5.download_dastcom5()\n\n\n"
      ]
    },
    {
      "cell_type": "markdown",
      "metadata": {},
      "source": [
        "The main DASTCOM5 advantage over NeoWs is that you can use it to search\nnot only NEOs, but any asteroid or comet. The easiest function is\n``orbit_from_name()``:\n\n\n"
      ]
    },
    {
      "cell_type": "code",
      "execution_count": null,
      "metadata": {
        "collapsed": false
      },
      "outputs": [],
      "source": [
        "from poliastro.neos import dastcom5\n\natira = dastcom5.orbit_from_name(\"atira\")[0]  # NEO\nwikipedia = dastcom5.orbit_from_name(\"wikipedia\")[0]  # Asteroid, but not NEO.\n\nframe = StaticOrbitPlotter()\nframe.plot(atira, label=\"Atira (NEO)\")\nframe.plot(wikipedia, label=\"Wikipedia (asteroid)\");\nplt.show()"
      ]
    },
    {
      "cell_type": "markdown",
      "metadata": {},
      "source": [
        "Keep in mind that this function returns a list of orbits matching your\nstring. This is made on purpose given that there are comets which have\nseveral records in the database (one for each orbit determination in\nhistory) what allow plots like this one:\n\n\n"
      ]
    },
    {
      "cell_type": "code",
      "execution_count": null,
      "metadata": {
        "collapsed": false
      },
      "outputs": [],
      "source": [
        "halleys = dastcom5.orbit_from_name(\"1P\")\nprint(\"THIS IS HALLEYS LIST:\", halleys)\n\nframe = StaticOrbitPlotter()\nframe.plot(halleys[0], label=\"Halley\")\nframe.plot(halleys[5], label=\"Halley\")\nframe.plot(halleys[10], label=\"Halley\")\nframe.plot(halleys[20], label=\"Halley\")\nframe.plot(halleys[-1], label=\"Halley\");\nplt.show()"
      ]
    },
    {
      "cell_type": "markdown",
      "metadata": {},
      "source": [
        "While ``neows`` can only be used to get Orbit objects, ``dastcom5`` can\nalso provide asteroid and comet complete database. Once you have this,\nyou can get specific data about one or more bodies. The complete\ndatabases are ``ndarrays``, so if you want to know the entire list of\navailable parameters, you can look at the ``dtype``, and they are also\nexplained in `documentation API\nReference <https://docs.poliastro.space/en/latest/api/safe/neos/dastcom5_parameters.html>`__:\n\n\n"
      ]
    },
    {
      "cell_type": "code",
      "execution_count": null,
      "metadata": {
        "collapsed": false
      },
      "outputs": [],
      "source": [
        "ast_db = dastcom5.asteroid_db()\ncomet_db = dastcom5.comet_db()\nast_db.dtype.names[\n    :20\n]  # They are more than 100, but that would be too much lines in this notebook :P"
      ]
    },
    {
      "cell_type": "markdown",
      "metadata": {},
      "source": [
        ".. raw:: html\n\n   <div class=\"alert alert-info\">\n\nAsteroid and comet parameters are not exactly the same (although they\nare very close)\n\n.. raw:: html\n\n   </div>\n\n\n"
      ]
    },
    {
      "cell_type": "markdown",
      "metadata": {},
      "source": [
        "With these ``ndarrays`` you can classify asteroids and comets, sort\nthem, get all their parameters, and whatever comes to your mind.\n\nFor example, NEOs can be grouped in several ways. One of the NEOs group\nis called ``Atiras``, and is formed by NEOs whose orbits are contained\nentirely with the orbit of the Earth. They are a really little group,\nand we can try to plot all of these NEOs using ``asteroid_db()``:\n\n\n"
      ]
    },
    {
      "cell_type": "markdown",
      "metadata": {},
      "source": [
        "Talking in orbital terms, ``Atiras`` have an aphelion distance,\n``Q < 0.983 au`` and a semi-major axis, ``a < 1.0 au``. Visiting\n`documentation API\nReference <https://docs.poliastro.space/en/latest/api/safe/neos/dastcom5_parameters.html>`__,\nyou can see that DASTCOM5 provides semi-major axis, but doesn't provide\naphelion distance. You can get aphelion distance easily knowing\nperihelion distance (q, QR in DASTCOM5) and semi-major axis\n``Q = 2*a - q``, but there are probably many other ways.\n\n\n"
      ]
    },
    {
      "cell_type": "code",
      "execution_count": null,
      "metadata": {
        "collapsed": false
      },
      "outputs": [],
      "source": [
        "aphelion_condition = 2 * ast_db[\"A\"] - ast_db[\"QR\"] < 0.983\naxis_condition = ast_db[\"A\"] < 1.3\natiras = ast_db[aphelion_condition & axis_condition]"
      ]
    },
    {
      "cell_type": "markdown",
      "metadata": {},
      "source": [
        "The number of ``Atira NEOs`` we use using this method is:\n\n\n"
      ]
    },
    {
      "cell_type": "code",
      "execution_count": null,
      "metadata": {
        "collapsed": false
      },
      "outputs": [],
      "source": [
        "print(len(atiras))"
      ]
    },
    {
      "cell_type": "markdown",
      "metadata": {},
      "source": [
        "Which is consistent with the `stats published by\nCNEOS <https://cneos.jpl.nasa.gov/stats/totals.html>`__\n\n\n"
      ]
    },
    {
      "cell_type": "markdown",
      "metadata": {},
      "source": [
        "Now we're gonna plot all of their orbits, with corresponding labels,\njust because we love plots :)\n\nWe only need to get the 16 orbits from these 16 ``ndarrays``.\n\nThere are two ways:\n\n-  Gather all their orbital elements manually and use the\n   ``Orbit.from_classical()`` function.\n-  Use the ``NO`` property (logical record number in DASTCOM5 database)\n   and the ``dastcom5.orbit_from_record()`` function.\n\nThe second one seems easier and it is related to the current notebook,\nso we are going to use that one, using the ``ASTNAM`` property of\nDASTCOM5 database:\n\n\n"
      ]
    },
    {
      "cell_type": "code",
      "execution_count": null,
      "metadata": {
        "collapsed": false
      },
      "outputs": [],
      "source": [
        "from poliastro.bodies import Earth\n\nearth = Orbit.from_body_ephem(Earth)\nframe = StaticOrbitPlotter()\nframe.plot(earth, label=Earth)\n\nfor record in atiras[\"NO\"]:\n    ss = dastcom5.orbit_from_record(record).to_icrs()\n    frame.plot(ss, color=\"#666666\")\nplt.show()"
      ]
    },
    {
      "cell_type": "markdown",
      "metadata": {},
      "source": [
        "If we needed also the names of each asteroid, we could do:\n\n\n"
      ]
    },
    {
      "cell_type": "code",
      "execution_count": null,
      "metadata": {
        "collapsed": false
      },
      "outputs": [],
      "source": [
        "frame = StaticOrbitPlotter()\n\nframe.plot(earth, label=Earth)\n\nfor i in range(len(atiras)):\n    record = atiras[\"NO\"][i]\n    label = atiras[\"ASTNAM\"][i].decode().strip()  # DASTCOM5 strings are binary\n    ss = dastcom5.orbit_from_record(record).to_icrs()\n    frame.plot(ss, label=label)\nplt.show()"
      ]
    },
    {
      "cell_type": "markdown",
      "metadata": {},
      "source": [
        ".. raw:: html\n\n   <div class=\"alert alert-info\">\n\nWe knew beforehand that there are no ``Atira`` comets, only asteroids\n(comet orbits are usually more eccentric), but we could use the same\nmethod with ``com_db`` if we wanted.\n\n.. raw:: html\n\n   </div>\n\n\n"
      ]
    },
    {
      "cell_type": "markdown",
      "metadata": {},
      "source": [
        "Finally, another interesting function in ``dastcom5`` is\n``entire_db()``, which is really similar to ``ast_db`` and ``com_db``,\nbut it returns a ``Pandas dataframe`` instead of a ``numpy ndarray``.\nThe dataframe has asteroids and comets in it, but in order to achieve\nthat (and a more manageable dataframe), a lot of parameters were\nremoved, and others were renamed:\n\n\n"
      ]
    },
    {
      "cell_type": "code",
      "execution_count": null,
      "metadata": {
        "collapsed": false
      },
      "outputs": [],
      "source": [
        "db = dastcom5.entire_db()\nprint(db.columns)"
      ]
    },
    {
      "cell_type": "markdown",
      "metadata": {},
      "source": [
        "Also, in this function, DASTCOM5 data (specially strings) is ready to\nuse (decoded and improved strings, etc):\n\n\n"
      ]
    },
    {
      "cell_type": "code",
      "execution_count": null,
      "metadata": {
        "collapsed": false
      },
      "outputs": [],
      "source": [
        "db[\n    db.NAME == \"Halley\"\n]  # As you can see, Halley is the name of an asteroid too, did you know that?"
      ]
    },
    {
      "cell_type": "markdown",
      "metadata": {},
      "source": [
        "Panda offers many functionalities, and can also be used in the same way\nas the ``ast_db`` and ``comet_db`` functions:\n\n\n"
      ]
    },
    {
      "cell_type": "code",
      "execution_count": null,
      "metadata": {
        "collapsed": false
      },
      "outputs": [],
      "source": [
        "aphelion_condition = (2 * db[\"A\"] - db[\"QR\"]) < 0.983\naxis_condition = db[\"A\"] < 1.3\natiras = db[aphelion_condition & axis_condition]\n\nprint(len(atiras))"
      ]
    },
    {
      "cell_type": "markdown",
      "metadata": {},
      "source": [
        "What? I said they can be used in the same way!\n\n\n"
      ]
    },
    {
      "cell_type": "markdown",
      "metadata": {},
      "source": [
        "Dont worry :) If you want to know what's happening here, the only\ndifference is that we are now working with comets too, and some comets\nhave a negative semi-major axis!\n\n\n"
      ]
    },
    {
      "cell_type": "code",
      "execution_count": null,
      "metadata": {
        "collapsed": false
      },
      "outputs": [],
      "source": [
        "print(len(atiras[atiras.A < 0]))"
      ]
    },
    {
      "cell_type": "markdown",
      "metadata": {},
      "source": [
        "So, rewriting our condition:\n\n\n"
      ]
    },
    {
      "cell_type": "code",
      "execution_count": null,
      "metadata": {
        "collapsed": false
      },
      "outputs": [],
      "source": [
        "axis_condition = (db[\"A\"] < 1.3) & (db[\"A\"] > 0)\natiras = db[aphelion_condition & axis_condition]\nprint(len(atiras))"
      ]
    }
  ],
  "metadata": {
    "kernelspec": {
      "display_name": "Python 3",
      "language": "python",
      "name": "python3"
    },
    "language_info": {
      "codemirror_mode": {
        "name": "ipython",
        "version": 3
      },
      "file_extension": ".py",
      "mimetype": "text/x-python",
      "name": "python",
      "nbconvert_exporter": "python",
      "pygments_lexer": "ipython3",
      "version": "3.7.5"
    }
  },
  "nbformat": 4,
  "nbformat_minor": 0
}