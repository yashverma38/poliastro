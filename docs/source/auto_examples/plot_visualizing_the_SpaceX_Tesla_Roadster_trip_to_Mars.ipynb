{
  "cells": [
    {
      "cell_type": "code",
      "execution_count": null,
      "metadata": {
        "collapsed": false
      },
      "outputs": [],
      "source": [
        "%matplotlib inline"
      ]
    },
    {
      "cell_type": "markdown",
      "metadata": {},
      "source": [
        "\nVisualizing the SpaceX Tesla Roadster trip to Mars\n==================================================\n"
      ]
    },
    {
      "cell_type": "code",
      "execution_count": null,
      "metadata": {
        "collapsed": false
      },
      "outputs": [],
      "source": [
        "from astropy.time import Time\nfrom astropy import units as u\nimport matplotlib.pyplot as plt\nimport plotly\n\nfrom poliastro.bodies import Earth, Mars, Sun\nfrom poliastro.twobody import Orbit\nfrom poliastro.plotting import OrbitPlotter3D\n\n\nEPOCH = Time(\"2018-02-18 12:00:00\", scale=\"tdb\")\n\nroadster = Orbit.from_horizons(\"SpaceX Roadster\", Sun, epoch=EPOCH, id_type=\"majorbody\")\nroadster\n\nfrom poliastro.plotting.misc import plot_solar_system\n\nframe = plot_solar_system(outer=False, epoch=EPOCH)\nframe.plot(roadster, label=\"SpaceX Roadster\", color=\"black\");\nplt.show()"
      ]
    },
    {
      "cell_type": "markdown",
      "metadata": {},
      "source": [
        "We will now make a three-dimensional plot\n\n\n"
      ]
    },
    {
      "cell_type": "code",
      "execution_count": null,
      "metadata": {
        "collapsed": false
      },
      "outputs": [],
      "source": [
        "frame = OrbitPlotter3D()\n\nframe.plot(Orbit.from_body_ephem(Earth, EPOCH), label=Earth)\nframe.plot(Orbit.from_body_ephem(Mars, EPOCH), label=Mars)\nframe.plot(roadster, label=\"SpaceX Roadster\", color=\"black\")\n\nfig = frame.set_view(30 * u.deg, -100 * u.deg, 2 * u.km)\nplotly.io.show(fig)"
      ]
    }
  ],
  "metadata": {
    "kernelspec": {
      "display_name": "Python 3",
      "language": "python",
      "name": "python3"
    },
    "language_info": {
      "codemirror_mode": {
        "name": "ipython",
        "version": 3
      },
      "file_extension": ".py",
      "mimetype": "text/x-python",
      "name": "python",
      "nbconvert_exporter": "python",
      "pygments_lexer": "ipython3",
      "version": "3.7.5"
    }
  },
  "nbformat": 4,
  "nbformat_minor": 0
}